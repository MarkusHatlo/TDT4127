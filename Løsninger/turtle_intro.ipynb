{
 "cells": [
  {
   "cell_type": "markdown",
   "metadata": {},
   "source": [
    "## Getting started with turtle"
   ]
  },
  {
   "cell_type": "markdown",
   "metadata": {},
   "source": [
    "### What can we do with turtle?\n",
    "\n",
    "#### Move the pen up and down.\n",
    "#### Move the pen to an x and y location.\n",
    "#### Draw a line.\n",
    "#### Change the line's width and color.\n",
    "#### If you can draw a line, you can draw anything.\n",
    "\n"
   ]
  },
  {
   "cell_type": "markdown",
   "metadata": {},
   "source": [
    "## Turtle is widely used to introduce children \n",
    "## to programming."
   ]
  },
  {
   "cell_type": "markdown",
   "metadata": {},
   "source": [
    "[Python turtle documentation](https://docs.python.org/3/library/turtle.html)\n",
    "\n",
    "[Real Python](https://realpython.com/beginners-guide-python-turtle/)"
   ]
  },
  {
   "cell_type": "code",
   "execution_count": 3,
   "metadata": {},
   "outputs": [
    {
     "name": "stdout",
     "output_type": "stream",
     "text": [
      "bye\n"
     ]
    }
   ],
   "source": [
    "#first example\n",
    "#initialise a window, create a turtle,\n",
    "#move the turtle forward.\n",
    "import turtle\n",
    "win_open = turtle.Screen()\n",
    "jeff = turtle.Turtle()\n",
    "jeff.forward(100)\n"
   ]
  },
  {
   "cell_type": "markdown",
   "metadata": {},
   "source": [
    "### The screen acts as a canvas, while the turtle acts like a pen. \n",
    "When you have both the fun starts and you can draw."
   ]
  },
  {
   "cell_type": "code",
   "execution_count": 21,
   "metadata": {},
   "outputs": [
    {
     "name": "stdout",
     "output_type": "stream",
     "text": [
      "Overwriting first_example.py\n"
     ]
    }
   ],
   "source": [
    "%%writefile first_example.py\n",
    "#first example\n",
    "#initialise a window, create a turtle,\n",
    "#move the turtle forward.\n",
    "import turtle\n",
    "win_open = turtle.Screen()\n",
    "print(turtle.screensize())\n",
    "jeff = turtle.Turtle()\n",
    "jeff.forward(100)"
   ]
  },
  {
   "cell_type": "code",
   "execution_count": 19,
   "metadata": {},
   "outputs": [
    {
     "name": "stdout",
     "output_type": "stream",
     "text": [
      "Teaching.py         Turtle_EDIT.webp    first_example.py    turtle_intro.ipynb\n",
      "Turtle_EDIT.jpg     \u001b[34m__pycache__\u001b[m\u001b[m/        turtle.ipynb\n"
     ]
    }
   ],
   "source": [
    "ls"
   ]
  },
  {
   "cell_type": "markdown",
   "metadata": {},
   "source": [
    "### In 2D we have only four directions:\n",
    "Forward  --> fd\n",
    "\n",
    "Backward --> bk\n",
    "\n",
    "Left     --> lt\n",
    "\n",
    "Right    --> rt\n"
   ]
  },
  {
   "cell_type": "code",
   "execution_count": null,
   "metadata": {},
   "outputs": [],
   "source": [
    "#second example.\n",
    "#move turtle in four directions \n",
    "import turtle\n",
    "#open a canvas \n",
    "canvas = turtle.Screen()\n",
    "pen = turtle.Turtle()\n",
    "pen.lt(100)\n",
    "pen.fd(100)\n",
    "pen.rt(100)\n",
    "pen.bk(100)"
   ]
  },
  {
   "cell_type": "code",
   "execution_count": 22,
   "metadata": {},
   "outputs": [
    {
     "name": "stdout",
     "output_type": "stream",
     "text": [
      "Writing second_example.py\n"
     ]
    }
   ],
   "source": [
    "%%writefile second_example.py\n",
    "#second example.\n",
    "#move turtle in four directions \n",
    "import turtle\n",
    "#open a canvas \n",
    "canvas = turtle.Screen()\n",
    "pen = turtle.Turtle()\n",
    "pen.lt(100)\n",
    "pen.fd(100)\n",
    "pen.rt(100)\n",
    "pen.bk(100)"
   ]
  },
  {
   "cell_type": "code",
   "execution_count": 23,
   "metadata": {},
   "outputs": [
    {
     "name": "stdout",
     "output_type": "stream",
     "text": [
      "Teaching.py         Turtle_EDIT.webp    second_example.py\n",
      "Turtle_EDIT.jpg     \u001b[34m__pycache__\u001b[m\u001b[m/        turtle.ipynb\n",
      "Turtle_EDIT.png     first_example.py    turtle_intro.ipynb\n"
     ]
    }
   ],
   "source": [
    "ls"
   ]
  },
  {
   "cell_type": "markdown",
   "metadata": {},
   "source": [
    "## We cannot move without a coordinate system\n",
    "### In a turtle winder (0,0) is in the middle of the screen.\n",
    "(0,0) is called home.\n"
   ]
  },
  {
   "cell_type": "code",
   "execution_count": 25,
   "metadata": {},
   "outputs": [
    {
     "name": "stdout",
     "output_type": "stream",
     "text": [
      "zsh:1: missing delimiter for 'u' glob qualifier\n"
     ]
    }
   ],
   "source": [
    "#third example.\n",
    "#move the pen using goto (x,y)\n",
    "import turtle\n",
    "canvas = turtle.Screen()\n",
    "pen = turtle.Turtle()\n",
    "pen.goto(100,0)\n",
    "pen.goto(100,100)\n",
    "pen.goto(0,100)\n",
    "pen.home() #same as pen.goto(0,0)"
   ]
  },
  {
   "cell_type": "code",
   "execution_count": 26,
   "metadata": {},
   "outputs": [
    {
     "name": "stdout",
     "output_type": "stream",
     "text": [
      "Writing third_example.py\n"
     ]
    }
   ],
   "source": [
    "%%writefile third_example.py\n",
    "#third example.\n",
    "#move the pen using goto (x,y)\n",
    "import turtle\n",
    "canvas = turtle.Screen()\n",
    "pen = turtle.Turtle()\n",
    "pen.goto(100,0)\n",
    "pen.goto(100,100)\n",
    "pen.goto(0,100)\n",
    "pen.home()"
   ]
  },
  {
   "cell_type": "code",
   "execution_count": null,
   "metadata": {},
   "outputs": [],
   "source": [
    "# fourth example\n",
    "# move in a random path\n",
    "import turtle\n",
    "import random\n",
    "canvas = turtle.Screen()\n",
    "pen = turtle.Turtle()\n",
    "for moves in range (20):\n",
    "    x_value = random.randint(-200, 200)\n",
    "    y_value = random.randint(-200, 200)\n",
    "    pen.goto(x_value, y_value)"
   ]
  },
  {
   "cell_type": "code",
   "execution_count": 28,
   "metadata": {},
   "outputs": [
    {
     "name": "stdout",
     "output_type": "stream",
     "text": [
      "Overwriting fourth_example.py\n"
     ]
    }
   ],
   "source": [
    "%%writefile fourth_example.py \n",
    "# fourth example\n",
    "# move in a random path\n",
    "import turtle\n",
    "import random\n",
    "canvas = turtle.Screen()\n",
    "pen = turtle.Turtle()\n",
    "for moves in range (200):\n",
    "    x_value = random.randint(-200, 200)\n",
    "    y_value = random.randint(-200, 200)\n",
    "    pen.goto(x_value, y_value)"
   ]
  },
  {
   "cell_type": "markdown",
   "metadata": {},
   "source": [
    "### Drawing other figures "
   ]
  },
  {
   "cell_type": "code",
   "execution_count": null,
   "metadata": {},
   "outputs": [],
   "source": [
    "# fifth example.\n",
    "# drawing circles.\n",
    "import turtle\n",
    "canvas = turtle.Screen()\n",
    "pen = turtle.Turtle()\n",
    "\n",
    "for radius in range(5,200,10):\n",
    "    pen.circle(radius)\n",
    "\n"
   ]
  },
  {
   "cell_type": "code",
   "execution_count": 29,
   "metadata": {},
   "outputs": [
    {
     "name": "stdout",
     "output_type": "stream",
     "text": [
      "Writing fifth_example.py\n"
     ]
    }
   ],
   "source": [
    "%%writefile fifth_example.py\n",
    "# fifth example.\n",
    "# drawing circles.\n",
    "import turtle\n",
    "canvas = turtle.Screen()\n",
    "pen = turtle.Turtle()\n",
    "\n",
    "for radius in range(5,200,10):\n",
    "    pen.circle(radius)\n",
    "\n"
   ]
  },
  {
   "cell_type": "markdown",
   "metadata": {},
   "source": [
    "### Question: how do we draw circles with a defined center?"
   ]
  },
  {
   "cell_type": "markdown",
   "metadata": {},
   "source": [
    "drawing a dot:\n",
    "\n",
    "dot_size = 10\n",
    "\n",
    "pen.dot(dot_size)"
   ]
  },
  {
   "cell_type": "markdown",
   "metadata": {},
   "source": [
    "\n",
    "### let us draw two intersecting lines."
   ]
  },
  {
   "cell_type": "code",
   "execution_count": null,
   "metadata": {},
   "outputs": [],
   "source": [
    "# sixth example. Visualize the intersection of two lines.\n",
    "# y = 3x + 2 and y = 4x - 9\n",
    "\n",
    "import turtle \n",
    "canvas = turtle.Screen()\n",
    "pen = turtle.Turtle()\n",
    "\n",
    "# first let us draw the lines.\n",
    "# find two points on each line.\n",
    "x_11, x_12 = -50, -50\n",
    "y_11 = 3 * x_11 + 2\n",
    "y_12 = 4 * x_12 - 9\n",
    "\n",
    "x_21, x_22 = 30, 30\n",
    "y_21 = 3 * x_21 + 2\n",
    "y_22 = 4 * x_22 - 9 \n",
    "\n",
    "# pick the pen up.\n",
    "pen.penup()\n",
    "# go to the first point\n",
    "pen.goto(x_11, y_11)\n",
    "# put the pen down\n",
    "pen.pendown()\n",
    "pen.goto(x_21, y_21)\n",
    "\n",
    " \n"
   ]
  },
  {
   "cell_type": "code",
   "execution_count": 35,
   "metadata": {},
   "outputs": [
    {
     "name": "stdout",
     "output_type": "stream",
     "text": [
      "Overwriting sixth_example.py\n"
     ]
    }
   ],
   "source": [
    "%%writefile sixth_example.py\n",
    "# sixth example. Visualize the intersection of two lines.\n",
    "# y = 3x + 2 and y = 4x - 9\n",
    "# at the intersection point\n",
    "# 3x+2 = 4x-9\n",
    "# x = 11\n",
    "# y = 37\n",
    "import turtle \n",
    "canvas = turtle.Screen()\n",
    "pen = turtle.Turtle()\n",
    "\n",
    "# first let us draw the lines.\n",
    "# find two points on each line.\n",
    "x_11, x_12 = -50, -50\n",
    "y_11 = 3 * x_11 + 2\n",
    "y_12 = 4 * x_12 -9\n",
    "\n",
    "x_21, x_22 = 30, 30\n",
    "y_21 = 3 * x_21 + 2\n",
    "y_22 = 4 * x_22 - 9 \n",
    "\n",
    "# pick the pen up.\n",
    "pen.penup()\n",
    "# go to the first point\n",
    "pen.goto(x_11, y_11)\n",
    "# put the pen down\n",
    "pen.pendown()\n",
    "pen.goto(x_21, y_21)\n",
    "\n",
    "#repeat for second line:\n",
    "# pick the pen up.\n",
    "pen.penup()\n",
    "# go to the first point\n",
    "pen.goto(x_12, y_12)\n",
    "# put the pen down\n",
    "pen.pendown()\n",
    "pen.goto(x_22, y_22)\n",
    "\n",
    "# mark the intersection point\n",
    "pen.penup()\n",
    "pen.goto(11, 37)\n",
    "pen.pendown()\n",
    "pen.dot(10)"
   ]
  },
  {
   "cell_type": "markdown",
   "metadata": {},
   "source": [
    "### Let us learn how to control the pen's thickness and color."
   ]
  },
  {
   "cell_type": "code",
   "execution_count": null,
   "metadata": {},
   "outputs": [],
   "source": [
    "# seventh example\n",
    "# move in a random path\n",
    "# change color and line thickness\n",
    "import turtle\n",
    "from random import randint\n",
    "canvas = turtle.Screen()\n",
    "pen = turtle.Turtle()\n",
    "color_list = ['yellow', 'cyan', 'red', 'light blue', 'pink',\n",
    "  'blue', 'purple', 'green', 'brown', 'orange']\n",
    "for moves in range (200):\n",
    "    thickness = randint(1, 10)\n",
    "    color_ind = randint(0,9)\n",
    "    color = color_list[color_ind]\n",
    "    x_value = randint(-300, 300)\n",
    "    y_value = randint(-300, 300)\n",
    "    pen.pencolor(color)\n",
    "    pen.pensize(thickness)\n",
    "    pen.goto(x_value, y_value)"
   ]
  },
  {
   "cell_type": "code",
   "execution_count": 42,
   "metadata": {},
   "outputs": [
    {
     "name": "stdout",
     "output_type": "stream",
     "text": [
      "Overwriting seventh_example.py\n"
     ]
    }
   ],
   "source": [
    "%%writefile seventh_example.py\n",
    "# seventh example\n",
    "# move in a random path\n",
    "# change color and line thickness\n",
    "import turtle\n",
    "from random import randint\n",
    "canvas = turtle.Screen()\n",
    "pen = turtle.Turtle()\n",
    "color_list = ['yellow', 'cyan', 'red', 'light blue', 'pink',\n",
    "  'blue', 'purple', 'green', 'brown', 'orange']\n",
    "for moves in range (200):\n",
    "    thickness = randint(1, 10)\n",
    "    color_ind = randint(0,9)\n",
    "    color = color_list[color_ind]\n",
    "    x_value = randint(-300, 300)\n",
    "    y_value = randint(-300, 300)\n",
    "    pen.pencolor(color)\n",
    "    pen.pensize(thickness)\n",
    "    pen.goto(x_value, y_value)"
   ]
  },
  {
   "cell_type": "markdown",
   "metadata": {},
   "source": [
    "### Let us make random art!"
   ]
  },
  {
   "cell_type": "code",
   "execution_count": 39,
   "metadata": {},
   "outputs": [],
   "source": [
    "import turtle\n",
    "from random import randint, choice\n",
    "canvas = turtle.Screen()\n",
    "pen = turtle.Turtle()\n",
    "pen.speed(0)\n",
    "color_list = ['yellow', 'cyan', 'red', 'light blue', 'pink',\n",
    "  'blue', 'purple', 'green', 'brown', 'orange']\n",
    "radius_list = list(range(5,150,10))\n",
    "for i in range(20):\n",
    "    x_value = randint(-150, 150)\n",
    "    y_value = randint(-150, 150)\n",
    "    pen.penup()\n",
    "    pen.goto(x_value, y_value)\n",
    "    pen.pendown\n",
    "    radius = choice(radius_list)\n",
    "    pen.color(choice(color_list))\n",
    "    pen.begin_fill()\n",
    "    pen.circle(radius)\n",
    "    pen.end_fill()"
   ]
  },
  {
   "cell_type": "code",
   "execution_count": 48,
   "metadata": {},
   "outputs": [
    {
     "name": "stdout",
     "output_type": "stream",
     "text": [
      "Overwriting eight_example.py\n"
     ]
    }
   ],
   "source": [
    "%%writefile eight_example.py\n",
    "# eight example.\n",
    "# drawing circles with random location and size.\n",
    "import turtle\n",
    "from random import randint, choice\n",
    "canvas = turtle.Screen()\n",
    "pen = turtle.Turtle()\n",
    "pen.speed(0) # speed has values from 0-10: 0 is fastest.\n",
    "\n",
    "color_list = ['yellow', 'cyan', 'red', 'light blue', 'pink',\n",
    "  'blue', 'purple', 'green', 'brown', 'orange']\n",
    "radius_list = list(range(5,50,5))\n",
    "for i in range(40):\n",
    "    x_value = randint(-150, 150)\n",
    "    y_value = randint(-150, 150)\n",
    "    #pen.penup()\n",
    "    pen.goto(x_value, y_value)\n",
    "    #pen.pendown\n",
    "    radius = choice(radius_list)\n",
    "    pen.color(choice(color_list))\n",
    "    pen.begin_fill()\n",
    "    pen.circle(radius)\n",
    "    pen.end_fill()"
   ]
  },
  {
   "cell_type": "markdown",
   "metadata": {},
   "source": [
    "### Let us create a simple game using the examples we have created."
   ]
  },
  {
   "cell_type": "code",
   "execution_count": null,
   "metadata": {},
   "outputs": [],
   "source": [
    "# ninth example\n",
    "# move two pens in a random paths\n",
    "# if the distance between the two pens is small, change the color and thickness.\n",
    "# change color and line thickness\n",
    "import turtle\n",
    "from random import randint, choice\n",
    "canvas = turtle.Screen()\n",
    "pen_one = turtle.Turtle()\n",
    "pen_two = turtle.Turtle()\n",
    "pen_one.speed(2)\n",
    "pen_two.speed(2)\n",
    "color_list = ['yellow', 'cyan', 'red', 'light blue', 'pink',\n",
    "  'blue', 'purple', 'green', 'brown', 'orange']\n",
    "for moves in range (200):\n",
    "    x_value_1, y_value_1 = randint(-300, 300), randint(-300, 300)\n",
    "    x_value_2, y_value_2 = randint(-300, 300), randint(-300, 300)\n",
    "    distance = ((x_value_1 - x_value_2)**2 + (y_value_1 - y_value_2)**2)**.5\n",
    "    if distance <= 200:\n",
    "        thickness = randint(1, 10)\n",
    "        pen_one.pencolor(choice(color_list))\n",
    "        pen_one.pensize(thickness)\n",
    "        pen_two.pencolor(choice(color_list))\n",
    "        pen_two.pensize(thickness)\n",
    "    pen_one.goto(x_value_1, y_value_1)\n",
    "    pen_two.goto(x_value_2, y_value_2)"
   ]
  },
  {
   "cell_type": "code",
   "execution_count": 54,
   "metadata": {},
   "outputs": [
    {
     "name": "stdout",
     "output_type": "stream",
     "text": [
      "Overwriting ninth_example.py\n"
     ]
    }
   ],
   "source": [
    "%%writefile ninth_example.py\n",
    "# ninth example\n",
    "# move two pens in a random paths\n",
    "# if the distance between the two pens is small, change the color and thickness.\n",
    "# change color and line thickness\n",
    "import turtle\n",
    "from random import randint, choice\n",
    "canvas = turtle.Screen()\n",
    "pen_one = turtle.Turtle()\n",
    "pen_two = turtle.Turtle()\n",
    "pen_one.speed(0)\n",
    "pen_two.speed(0)\n",
    "color_list = ['yellow', 'cyan', 'red', 'light blue', 'pink',\n",
    "  'blue', 'purple', 'green', 'brown', 'orange']\n",
    "for moves in range (200):\n",
    "    x_value_1, y_value_1 = randint(-300, 300), randint(-300, 300)\n",
    "    x_value_2, y_value_2 = randint(-300, 300), randint(-300, 300)\n",
    "    distance = ((x_value_1 - x_value_2)**2 + (y_value_1 - y_value_2)**2)**.5\n",
    "    if distance <= 200:\n",
    "        thickness = randint(1, 10)\n",
    "        pen_one.pencolor(choice(color_list))\n",
    "        pen_one.pensize(thickness)\n",
    "        pen_two.pencolor(choice(color_list))\n",
    "        pen_two.pensize(thickness)\n",
    "    pen_one.goto(x_value_1, y_value_1)\n",
    "    pen_two.goto(x_value_2, y_value_2)"
   ]
  },
  {
   "cell_type": "markdown",
   "metadata": {},
   "source": [
    "### time to do something fancy!\n",
    "[Times Tables, Mandelbrot](https://www.youtube.com/watch?v=qhbuKbxJsk8&ab_channel=Mathologer)"
   ]
  },
  {
   "cell_type": "code",
   "execution_count": null,
   "metadata": {},
   "outputs": [],
   "source": [
    "#tenth example\n",
    "\n",
    "#import math\n",
    "import random\n",
    "import turtle\n",
    "from math import pi, cos, sin\n",
    "\n",
    "# Times Tables, Mandelbrot and the Heart of Mathematics\n",
    "# https://www.youtube.com/watch?v=qhbuKbxJsk8&ab_channel=Mathologer\n",
    "\n",
    "\n",
    "wn = turtle.Screen()\n",
    "\n",
    "\n",
    "number_of_points = 500\n",
    "multiplication_factor = 31  # The multiplication factor: is an integer number.\n",
    "\n",
    "\n",
    "def coordinatates_on_circle(center = (0, 0), radius = 300, number_of_points = 200):\n",
    "    return [\n",
    "        (\n",
    "            center[0] + (cos(2 * pi / number_of_points * x) * radius),  # x\n",
    "            center[1] + (sin(2 * pi / number_of_points * x) * radius)  # y\n",
    "        ) \n",
    "        for x in range(0, number_of_points)]\n",
    "\n",
    "\n",
    "# Populate the matrix.\n",
    "xy = coordinatates_on_circle(\n",
    "    center=(-10, -10), radius=300, number_of_points = number_of_points)\n",
    "turtle.up()\n",
    "turtle.goto(xy[0])\n",
    "turtle.down()\n",
    "turtle.speed(0)\n",
    "\n",
    "\n",
    "# Draw the circle\n",
    "for i in range(0, number_of_points):\n",
    "    turtle.goto(xy[i])\n",
    "    turtle.pencolor(\"red\")\n",
    "    turtle.dot()\n",
    "    turtle.pencolor(\"black\")\n",
    "turtle.goto(xy[0])\n",
    "\n",
    "\n",
    "# Draw the lines.\n",
    "for i in range(number_of_points):\n",
    "    n = (i * multiplication_factor) % number_of_points\n",
    "    turtle.goto(xy[i])\n",
    "    turtle.down()\n",
    "    turtle.goto(xy[n])\n",
    "    turtle.up()\n",
    "turtle.done()\n"
   ]
  },
  {
   "cell_type": "code",
   "execution_count": 55,
   "metadata": {},
   "outputs": [
    {
     "name": "stdout",
     "output_type": "stream",
     "text": [
      "Writing tenth_example.py\n"
     ]
    }
   ],
   "source": [
    "%%writefile tenth_example.py\n",
    "#tenth example\n",
    "\n",
    "#import math\n",
    "import random\n",
    "import turtle\n",
    "from math import pi, cos, sin\n",
    "\n",
    "# Times Tables, Mandelbrot and the Heart of Mathematics\n",
    "# https://www.youtube.com/watch?v=qhbuKbxJsk8&ab_channel=Mathologer\n",
    "\n",
    "\n",
    "wn = turtle.Screen()\n",
    "\n",
    "\n",
    "number_of_points = 500\n",
    "multiplication_factor = 31  # The multiplication factor: is an integer number.\n",
    "\n",
    "\n",
    "def coordinatates_on_circle(center = (0, 0), radius = 300, number_of_points = 200):\n",
    "    return [\n",
    "        (\n",
    "            center[0] + (cos(2 * pi / number_of_points * x) * radius),  # x\n",
    "            center[1] + (sin(2 * pi / number_of_points * x) * radius)  # y\n",
    "        ) \n",
    "        for x in range(0, number_of_points)]\n",
    "\n",
    "\n",
    "# Populate the matrix.\n",
    "xy = coordinatates_on_circle(\n",
    "    center=(-10, -10), radius=300, number_of_points = number_of_points)\n",
    "turtle.up()\n",
    "turtle.goto(xy[0])\n",
    "turtle.down()\n",
    "turtle.speed(0)\n",
    "\n",
    "\n",
    "# Draw the circle\n",
    "for i in range(0, number_of_points):\n",
    "    turtle.goto(xy[i])\n",
    "    turtle.pencolor(\"red\")\n",
    "    turtle.dot()\n",
    "    turtle.pencolor(\"black\")\n",
    "turtle.goto(xy[0])\n",
    "\n",
    "\n",
    "# Draw the lines.\n",
    "for i in range(number_of_points):\n",
    "    n = (i * multiplication_factor) % number_of_points\n",
    "    turtle.goto(xy[i])\n",
    "    turtle.down()\n",
    "    turtle.goto(xy[n])\n",
    "    turtle.up()\n",
    "turtle.done()\n"
   ]
  },
  {
   "cell_type": "code",
   "execution_count": null,
   "metadata": {},
   "outputs": [],
   "source": []
  }
 ],
 "metadata": {
  "kernelspec": {
   "display_name": "Python 3.9.7 ('base')",
   "language": "python",
   "name": "python3"
  },
  "language_info": {
   "codemirror_mode": {
    "name": "ipython",
    "version": 3
   },
   "file_extension": ".py",
   "mimetype": "text/x-python",
   "name": "python",
   "nbconvert_exporter": "python",
   "pygments_lexer": "ipython3",
   "version": "3.9.7"
  },
  "orig_nbformat": 4,
  "vscode": {
   "interpreter": {
    "hash": "73b970f0c73a889c69baa3b2273e70726e0df92f975ad7f5ffd269914acfd6bb"
   }
  }
 },
 "nbformat": 4,
 "nbformat_minor": 2
}
