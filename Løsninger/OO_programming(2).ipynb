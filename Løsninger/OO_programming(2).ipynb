{
 "cells": [
  {
   "cell_type": "markdown",
   "metadata": {},
   "source": [
    "## The objectives of this lecture:\n",
    "\n",
    "- Demonstrate how the **Python** programming language is structured.\n",
    "- Show that everything in Python is an object that has **attributes** and associated **methods**.\n",
    "- Give an abstract view of programming in Python.\n",
    "- Allow us to appreciate Python as a versatile and powerful, **high-level programming language**.\n"
   ]
  },
  {
   "cell_type": "markdown",
   "metadata": {},
   "source": [
    "## The Real World vs. The Digital World\n",
    "\n",
    "In the real world, we might say:\n",
    "\n",
    "- **Task Assignment:**\n",
    "  - If you go to the shop, please buy milk.\n",
    "\n",
    "- **Traffic Regulation:**\n",
    "  - The speed limit is 80 km/h. If you drive above that limit, you will be fined.\n",
    "\n",
    "### How to Translate these Statements into the Digital World using Python?\n"
   ]
  },
  {
   "cell_type": "code",
   "execution_count": 49,
   "metadata": {},
   "outputs": [
    {
     "name": "stdout",
     "output_type": "stream",
     "text": [
      "Of course, I can buy milk.\n"
     ]
    }
   ],
   "source": [
    "go_to_shop = True\n",
    "if go_to_shop:\n",
    "    print(f\"Of course, I can buy milk.\")"
   ]
  },
  {
   "cell_type": "code",
   "execution_count": 50,
   "metadata": {},
   "outputs": [
    {
     "name": "stdout",
     "output_type": "stream",
     "text": [
      "I'm sorry, I don't have time.\n"
     ]
    }
   ],
   "source": [
    "def get_milk(state: bool):\n",
    "    if state:\n",
    "        print(f\"Of course, I can buy milk\")\n",
    "    else:\n",
    "        print(f\"I'm sorry, I don't have time.\")\n",
    "\n",
    "get_milk(False)\n"
   ]
  },
  {
   "cell_type": "code",
   "execution_count": 51,
   "metadata": {},
   "outputs": [
    {
     "name": "stdout",
     "output_type": "stream",
     "text": [
      "You need to increase your speed.\n"
     ]
    }
   ],
   "source": [
    "def speed_limit(distance_km: int, time_hour: int, current_speed_limit: int) -> None:\n",
    "    speed_km_h = distance_km / time_hour\n",
    "    if speed_km_h > current_speed_limit:\n",
    "        print(f\"The speed limit is {current_speed_limit}, you are speeding.\")\n",
    "    elif speed_km_h < current_speed_limit * 0.7:\n",
    "        print(f\"You need to increase your speed.\")\n",
    "    else:\n",
    "        print(f\"Keep driving safely.\")\n",
    "    \n",
    "speed_limit(4, 1, 80)"
   ]
  },
  {
   "cell_type": "markdown",
   "metadata": {},
   "source": [
    "# Learning to program: Data first approach."
   ]
  },
  {
   "cell_type": "markdown",
   "metadata": {},
   "source": [
    "  ### I recently relocated to a flat in Ila. After packing my belongings into a few boxes, my initial task upon arrival was to unpack. Inspired by a renowned Japanese YouTuber, considered by many as a modern guru of tidying up, I adopted her method. Her teachings emphasize categorization: bathroom essentials like shampoo and soap have their designated space, and t-shirts must be neatly folded before being stacked in the wardrobe drawers.\n",
    "\n",
    "  "
   ]
  },
  {
   "cell_type": "markdown",
   "metadata": {},
   "source": [
    "- **Let me share with you the story of packing and unpacking.**\n",
    "  - To pack, I needed to pick the items: Items first.\n",
    "\n",
    "- **Household items in Python: Objects first.**\n",
    "\n",
    "- **I am a minimalist. I have:**\n",
    "  - Cloths\n",
    "  - Books\n",
    "  - Cookware\n",
    "  - Bathroom items\n",
    "  - But don't forget the boxes.\n",
    "\n",
    "- **Let's begin by discussing various item categories:**\n",
    "  - Books\n",
    "  - Bathroom items\n",
    "  - Clothes\n",
    "  - Cookware\n",
    "- **Now, how do we represent these categories in Python?**\n"
   ]
  },
  {
   "cell_type": "code",
   "execution_count": 53,
   "metadata": {},
   "outputs": [],
   "source": [
    "class Book:\n",
    "    pass"
   ]
  },
  {
   "cell_type": "code",
   "execution_count": 54,
   "metadata": {},
   "outputs": [],
   "source": [
    "class Clothes:\n",
    "    pass"
   ]
  },
  {
   "cell_type": "code",
   "execution_count": 55,
   "metadata": {},
   "outputs": [],
   "source": [
    "class Cookware:\n",
    "    pass"
   ]
  },
  {
   "cell_type": "code",
   "execution_count": 56,
   "metadata": {},
   "outputs": [],
   "source": [
    "class Bathroom:\n",
    "    pass\n"
   ]
  },
  {
   "cell_type": "code",
   "execution_count": 57,
   "metadata": {},
   "outputs": [],
   "source": [
    "Crime_and_Punishment = Book()"
   ]
  },
  {
   "cell_type": "code",
   "execution_count": 58,
   "metadata": {},
   "outputs": [],
   "source": [
    "cast_iron_pan = Cookware()"
   ]
  },
  {
   "cell_type": "code",
   "execution_count": 59,
   "metadata": {},
   "outputs": [],
   "source": [
    "black_shirt = Clothes()"
   ]
  },
  {
   "cell_type": "code",
   "execution_count": 60,
   "metadata": {},
   "outputs": [],
   "source": [
    "shampoo = Bathroom()"
   ]
  },
  {
   "cell_type": "markdown",
   "metadata": {},
   "source": [
    "- **I need a box.**\n",
    "  - In real life, there are many types of boxes that differ in size, price, and material.\n",
    "\n",
    "\n",
    "- **In Python and the digital world, there are also different types of boxes.**\n",
    "  - Examples of boxes in Python include:\n",
    "    - Lists\n",
    "    - Sets\n",
    "    - Tuples\n",
    "    - Dictionaries\n",
    "    - Data files.\n"
   ]
  },
  {
   "cell_type": "code",
   "execution_count": 61,
   "metadata": {},
   "outputs": [],
   "source": [
    "list_box = [2, 3, 5, 7, [11, 13], 'primes']"
   ]
  },
  {
   "cell_type": "code",
   "execution_count": 62,
   "metadata": {},
   "outputs": [
    {
     "name": "stdout",
     "output_type": "stream",
     "text": [
      "2\n",
      "5\n",
      "[2, 3, 5]\n"
     ]
    }
   ],
   "source": [
    "print(list_box[0])\n",
    "print(list_box[2])\n",
    "print(list_box[:3])"
   ]
  },
  {
   "cell_type": "code",
   "execution_count": 63,
   "metadata": {},
   "outputs": [],
   "source": [
    "set_box = {2, 2, 3, 5, 5, 'no duplicates'}"
   ]
  },
  {
   "cell_type": "code",
   "execution_count": 64,
   "metadata": {},
   "outputs": [
    {
     "name": "stdout",
     "output_type": "stream",
     "text": [
      "{2, 3, 5, 'no duplicates'}\n"
     ]
    }
   ],
   "source": [
    "print(set_box)"
   ]
  },
  {
   "cell_type": "code",
   "execution_count": 65,
   "metadata": {},
   "outputs": [],
   "source": [
    "dict_box = {\"prime_1\": 2, \"prime_2\": 3, \"prime_3\": 5}"
   ]
  },
  {
   "cell_type": "code",
   "execution_count": 66,
   "metadata": {},
   "outputs": [
    {
     "name": "stdout",
     "output_type": "stream",
     "text": [
      "3\n"
     ]
    }
   ],
   "source": [
    "print(dict_box[\"prime_2\"])"
   ]
  },
  {
   "cell_type": "code",
   "execution_count": 67,
   "metadata": {},
   "outputs": [],
   "source": [
    "box = [Crime_and_Punishment, cast_iron_pan, black_shirt, shampoo]"
   ]
  },
  {
   "cell_type": "code",
   "execution_count": 68,
   "metadata": {},
   "outputs": [
    {
     "name": "stdout",
     "output_type": "stream",
     "text": [
      "[<__main__.Book object at 0x10ceac350>, <__main__.Cookware object at 0x10ceaf810>, <__main__.Clothes object at 0x10ceae650>, <__main__.Bathroom object at 0x10ceaf010>]\n"
     ]
    }
   ],
   "source": [
    "print(box)"
   ]
  },
  {
   "cell_type": "markdown",
   "metadata": {},
   "source": [
    "### Now I need to unpack my box.\n",
    "I will select one item at a time and, based on its type, transport it to its designated location."
   ]
  },
  {
   "cell_type": "code",
   "execution_count": 69,
   "metadata": {},
   "outputs": [
    {
     "name": "stdout",
     "output_type": "stream",
     "text": [
      "<__main__.Book object at 0x10ceac350>\n",
      "<__main__.Cookware object at 0x10ceaf810>\n",
      "<__main__.Clothes object at 0x10ceae650>\n",
      "<__main__.Bathroom object at 0x10ceaf010>\n"
     ]
    }
   ],
   "source": [
    "# Unpacking without organization.\n",
    "\n",
    "for item in box:\n",
    "    print(item) "
   ]
  },
  {
   "cell_type": "markdown",
   "metadata": {},
   "source": [
    "#### Let's be more organized. "
   ]
  },
  {
   "cell_type": "code",
   "execution_count": null,
   "metadata": {},
   "outputs": [],
   "source": [
    "for item in box:\n",
    "    if isinstance(item, Book):\n",
    "        print (f\"{item} is a book. Put it on the bookshelf.\")\n",
    "    if isinstance(item, Bathroom):\n",
    "        print (f\"{item} is a bathroom item. Put it in the bathroom.\")\n",
    "    if isinstance(item, Clothes):\n",
    "        print (f\"{item} is a clothing item. Put it in the bedroom.\")\n",
    "    if isinstance(item, Cookware):\n",
    "        print (f\"{item} is a cookware item. Put it in the kitchen.\")"
   ]
  },
  {
   "cell_type": "markdown",
   "metadata": {},
   "source": [
    "### Tidying Up the Books Before Packing\n",
    "\n",
    "- **People who are tidy arrange their items in a better way.**\n",
    "- Let's focus on tidying up the books before packing.\n"
   ]
  },
  {
   "cell_type": "code",
   "execution_count": 70,
   "metadata": {},
   "outputs": [],
   "source": [
    "class Book:\n",
    "    # class attribute \n",
    "    owner = \"Ali\"\n",
    "    def __init__(self, title, author, publication_year):\n",
    "        # information about the book: object attribute.\n",
    "        # Note that we can have many more attributes for each book.\n",
    "        # Examples: cover picture, designer, publisher, ISBN, language, translator, genre, etc.\n",
    "        self.title = title\n",
    "        self.author = author\n",
    "        self.publication_year = publication_year\n",
    "\n"
   ]
  },
  {
   "cell_type": "code",
   "execution_count": 71,
   "metadata": {},
   "outputs": [
    {
     "name": "stdout",
     "output_type": "stream",
     "text": [
      "Ali\n"
     ]
    }
   ],
   "source": [
    "print(Book.owner)"
   ]
  },
  {
   "cell_type": "code",
   "execution_count": 72,
   "metadata": {},
   "outputs": [],
   "source": [
    "crime_and_punishment = Book(\"Crime and Punishment\", \"Fyodor Dostoevsky\", 1886)"
   ]
  },
  {
   "cell_type": "markdown",
   "metadata": {},
   "source": [
    "Put everything in a box. "
   ]
  },
  {
   "cell_type": "code",
   "execution_count": 73,
   "metadata": {},
   "outputs": [],
   "source": [
    "box = [crime_and_punishment, cast_iron_pan, black_shirt, shampoo]"
   ]
  },
  {
   "cell_type": "code",
   "execution_count": 74,
   "metadata": {},
   "outputs": [
    {
     "name": "stdout",
     "output_type": "stream",
     "text": [
      "<__main__.Book object at 0x10cedb3d0>\n"
     ]
    }
   ],
   "source": [
    "print(box[0])"
   ]
  },
  {
   "cell_type": "code",
   "execution_count": 75,
   "metadata": {},
   "outputs": [
    {
     "name": "stdout",
     "output_type": "stream",
     "text": [
      "Crime and Punishment Fyodor Dostoevsky\n",
      "<__main__.Bathroom object at 0x10ceaf010> is a bathroom item. Put it in the bathroom.\n"
     ]
    }
   ],
   "source": [
    "for item in box:\n",
    "    if isinstance(item, Book):\n",
    "        print (item.title, item.author) # Notice the use of the dot.\n",
    "    if isinstance(item, Bathroom):\n",
    "        print (f\"{item} is a bathroom item. Put it in the bathroom.\")"
   ]
  },
  {
   "cell_type": "markdown",
   "metadata": {},
   "source": [
    "### Note that I can have a box filled with only books."
   ]
  },
  {
   "cell_type": "code",
   "execution_count": 78,
   "metadata": {},
   "outputs": [],
   "source": [
    "fyodor_dostoevsky_books = [\n",
    "    Book(\"Crime and Punishment\", \"Fyodor Dostoevsky\", 1866),\n",
    "    Book(\"The Brothers Karamazov\", \"Fyodor Dostoevsky\", 1880),\n",
    "    Book(\"The Idiot\", \"Fyodor Dostoevsky\", 1869),\n",
    "    Book(\"Demons\", \"Fyodor Dostoevsky\", 1872),\n",
    "    Book(\"The Gambler\", \"Fyodor Dostoevsky\", 1867),\n",
    "    Book(\"Notes from Underground\", \"Fyodor Dostoevsky\", 1864),\n",
    "    Book(\"The Adolescent\", \"Fyodor Dostoevsky\", 1875),\n",
    "    Book(\"The Eternal Husband\", \"Fyodor Dostoevsky\", 1869),\n",
    "    Book(\"The Dream of a Ridiculous Man\", \"Fyodor Dostoevsky\", 1877)\n",
    "]"
   ]
  },
  {
   "cell_type": "code",
   "execution_count": 80,
   "metadata": {},
   "outputs": [
    {
     "name": "stdout",
     "output_type": "stream",
     "text": [
      "Crime and Punishment\n",
      "\n",
      "The Brothers Karamazov\n",
      "\n",
      "The Idiot\n",
      "\n",
      "Demons\n",
      "\n",
      "The Gambler\n",
      "\n",
      "Notes from Underground\n",
      "\n",
      "The Adolescent\n",
      "\n",
      "The Eternal Husband\n",
      "\n",
      "The Dream of a Ridiculous Man\n",
      "\n"
     ]
    }
   ],
   "source": [
    "for book in fyodor_dostoevsky_books:\n",
    "    print(book.title)\n",
    "    print()"
   ]
  },
  {
   "cell_type": "markdown",
   "metadata": {},
   "source": [
    "### Books have more information than title, author and publication year. \n",
    "### Let's expand our knowledge about books and programming."
   ]
  },
  {
   "cell_type": "markdown",
   "metadata": {},
   "source": [
    "[Source Text](https://www.gutenberg.org/ebooks/author/314)\n"
   ]
  },
  {
   "cell_type": "code",
   "execution_count": 83,
   "metadata": {},
   "outputs": [],
   "source": [
    "import random\n",
    "from collections import Counter\n",
    "\n",
    "class Book:\n",
    "    def __init__(self, title, author, publication_year, file_path):\n",
    "        # information about the book\n",
    "        self.title = title\n",
    "        self.author = author\n",
    "        self.publication_year = publication_year\n",
    "        self.file_path = file_path  # Path to the file associated with the book\n",
    "        self.content = self._read_file_content()\n",
    "\n",
    "    def _read_file_content(self):\n",
    "        try:\n",
    "            with open(self.file_path, 'r', encoding='utf-8') as file:\n",
    "                return file.read()\n",
    "        except FileNotFoundError:\n",
    "            return f\"File not found: {self.file_path}\"\n",
    "\n",
    "    def read_random_line(self):\n",
    "        if self.content:\n",
    "            lines = self.content.splitlines()\n",
    "            random_line = random.choice(lines)\n",
    "            return random_line.strip()\n",
    "        return f\"File not found: {self.file_path}\"\n",
    "\n",
    "    def count_words(self):\n",
    "        if self.content:\n",
    "            words = self.content.split()\n",
    "            return len(words)\n",
    "        return 0\n",
    "\n",
    "    def count_unique_words(self):\n",
    "        if self.content:\n",
    "            words = self.content.split()\n",
    "            unique_words = set(words)\n",
    "            return len(unique_words)\n",
    "        return 0\n",
    "\n",
    "    def most_frequent_words(self, num_words):\n",
    "        if self.content:\n",
    "            words = self.content.split()\n",
    "            word_counts = Counter(words)\n",
    "            return word_counts.most_common(num_words)\n",
    "        return []\n",
    "\n",
    "    # special methods.\n",
    "\n",
    "    def __str__(self):\n",
    "        return f\"{self.title} by {self.author} published in {self.publication_year}.\"\n",
    "\n"
   ]
  },
  {
   "cell_type": "code",
   "execution_count": 84,
   "metadata": {},
   "outputs": [],
   "source": [
    "crime_and_punishment = Book(\"Crime and Punishment\", \"Fyodor Dostoevsky\", 1866, 'Crime_and_Punishment.txt')\n"
   ]
  },
  {
   "cell_type": "code",
   "execution_count": 89,
   "metadata": {},
   "outputs": [
    {
     "name": "stdout",
     "output_type": "stream",
     "text": [
      "\n"
     ]
    }
   ],
   "source": [
    "print()"
   ]
  },
  {
   "cell_type": "code",
   "execution_count": 90,
   "metadata": {},
   "outputs": [
    {
     "data": {
      "text/plain": [
       "206537"
      ]
     },
     "execution_count": 90,
     "metadata": {},
     "output_type": "execute_result"
    }
   ],
   "source": [
    "crime_and_punishment.count_words()"
   ]
  },
  {
   "cell_type": "code",
   "execution_count": 91,
   "metadata": {},
   "outputs": [
    {
     "data": {
      "text/plain": [
       "22357"
      ]
     },
     "execution_count": 91,
     "metadata": {},
     "output_type": "execute_result"
    }
   ],
   "source": [
    "crime_and_punishment.count_unique_words()"
   ]
  },
  {
   "cell_type": "code",
   "execution_count": 93,
   "metadata": {},
   "outputs": [
    {
     "data": {
      "text/plain": [
       "[('the', 7404),\n",
       " ('and', 6052),\n",
       " ('to', 5190),\n",
       " ('a', 4433),\n",
       " ('of', 3812),\n",
       " ('I', 3424),\n",
       " ('he', 3365),\n",
       " ('in', 2985),\n",
       " ('was', 2737),\n",
       " ('you', 2734),\n",
       " ('that', 2529),\n",
       " ('his', 1985),\n",
       " ('at', 1926),\n",
       " ('it', 1751),\n",
       " ('with', 1698),\n",
       " ('not', 1638),\n",
       " ('had', 1555),\n",
       " ('for', 1514),\n",
       " ('her', 1413),\n",
       " ('on', 1316),\n",
       " ('is', 1259),\n",
       " ('she', 1164),\n",
       " ('He', 1139),\n",
       " ('as', 1129),\n",
       " ('have', 1092),\n",
       " ('be', 1059)]"
      ]
     },
     "execution_count": 93,
     "metadata": {},
     "output_type": "execute_result"
    }
   ],
   "source": [
    "crime_and_punishment.most_frequent_words(26)"
   ]
  },
  {
   "cell_type": "code",
   "execution_count": 94,
   "metadata": {},
   "outputs": [],
   "source": [
    "idiot = Book(\"The Idiot\", \"Fyodor Dostoevsky\", 1869, 'Idiot.txt')"
   ]
  },
  {
   "cell_type": "code",
   "execution_count": 95,
   "metadata": {},
   "outputs": [
    {
     "data": {
      "text/plain": [
       "244573"
      ]
     },
     "execution_count": 95,
     "metadata": {},
     "output_type": "execute_result"
    }
   ],
   "source": [
    "idiot.count_words()"
   ]
  },
  {
   "cell_type": "code",
   "execution_count": 96,
   "metadata": {},
   "outputs": [
    {
     "data": {
      "text/plain": [
       "24828"
      ]
     },
     "execution_count": 96,
     "metadata": {},
     "output_type": "execute_result"
    }
   ],
   "source": [
    "idiot.count_unique_words()"
   ]
  },
  {
   "cell_type": "code",
   "execution_count": 97,
   "metadata": {},
   "outputs": [
    {
     "data": {
      "text/plain": [
       "[('the', 9736),\n",
       " ('and', 6781),\n",
       " ('to', 6675),\n",
       " ('of', 5557),\n",
       " ('a', 4785),\n",
       " ('I', 4558),\n",
       " ('that', 3376),\n",
       " ('in', 3351),\n",
       " ('you', 3322),\n",
       " ('he', 3234),\n",
       " ('was', 2996),\n",
       " ('his', 2361),\n",
       " ('had', 2059),\n",
       " ('not', 2055),\n",
       " ('at', 2015),\n",
       " ('with', 1959),\n",
       " ('for', 1848),\n",
       " ('it', 1846),\n",
       " ('is', 1759),\n",
       " ('as', 1666)]"
      ]
     },
     "execution_count": 97,
     "metadata": {},
     "output_type": "execute_result"
    }
   ],
   "source": [
    "idiot.most_frequent_words(20)"
   ]
  },
  {
   "cell_type": "markdown",
   "metadata": {},
   "source": [
    "### Python has interesting qualities:\n"
   ]
  },
  {
   "cell_type": "code",
   "execution_count": 98,
   "metadata": {},
   "outputs": [
    {
     "name": "stdout",
     "output_type": "stream",
     "text": [
      "7\n"
     ]
    }
   ],
   "source": [
    "print(2 + 5)\n"
   ]
  },
  {
   "cell_type": "code",
   "execution_count": 99,
   "metadata": {},
   "outputs": [
    {
     "name": "stdout",
     "output_type": "stream",
     "text": [
      "Python is fun.\n"
     ]
    }
   ],
   "source": [
    "print('Python ' + 'is ' + 'fun.')"
   ]
  },
  {
   "cell_type": "code",
   "execution_count": 100,
   "metadata": {},
   "outputs": [
    {
     "name": "stdout",
     "output_type": "stream",
     "text": [
      "[1, 2, 35, 7, 8, 13]\n"
     ]
    }
   ],
   "source": [
    "print([1, 2, 35] + [7, 8, 13])"
   ]
  },
  {
   "cell_type": "markdown",
   "metadata": {},
   "source": [
    "### Special methods\n",
    "- What addition operations can we perform when dealing with books?\n",
    "- What other operations are possible?\n",
    "- Let's enhance our Book class and deepen our programming knowledge.\n"
   ]
  },
  {
   "cell_type": "code",
   "execution_count": 101,
   "metadata": {},
   "outputs": [],
   "source": [
    "import random\n",
    "from collections import Counter\n",
    "\n",
    "class Book:\n",
    "\n",
    "    def __init__(self, title, author, publication_year, file_path):\n",
    "        # information about the book\n",
    "        self.title = title\n",
    "        self.author = author\n",
    "        self.publication_year = publication_year\n",
    "        self.file_path = file_path  # Path to the file associated with the book\n",
    "        if file_path:\n",
    "            self.content = self._read_file_content()\n",
    "\n",
    "    def _read_file_content(self):\n",
    "        try:\n",
    "            with open(self.file_path, 'r', encoding='utf-8') as file:\n",
    "                return file.read()\n",
    "        except FileNotFoundError:\n",
    "            return f\"File not found: {self.file_path}\"\n",
    "\n",
    "    def read_random_line(self):\n",
    "        if self.content:\n",
    "            lines = self.content.splitlines()\n",
    "            random_line = random.choice(lines)\n",
    "            return random_line.strip()\n",
    "        return f\"File not found: {self.file_path}\"\n",
    "\n",
    "    def count_words(self):\n",
    "        if self.content:\n",
    "            words = self.content.split()\n",
    "            return len(words)\n",
    "        return 0\n",
    "\n",
    "    def count_unique_words(self):\n",
    "        if self.content:\n",
    "            words = self.content.split()\n",
    "            unique_words = set(words)\n",
    "            return len(unique_words)\n",
    "        return 0\n",
    "\n",
    "    def most_frequent_words(self, num_words):\n",
    "        if self.content:\n",
    "            words = self.content.split()\n",
    "            word_counts = Counter(words)\n",
    "            return word_counts.most_common(num_words)\n",
    "        return []\n",
    "\n",
    "    # special methods.\n",
    "\n",
    "    def __str__(self):\n",
    "        return f\"{self.title} by {self.author} published in {self.publication_year}.\"\n",
    "\n",
    "    def __add__(self, other_book):\n",
    "        # Combine the words from two books\n",
    "        if self.content and other_book.content:\n",
    "            combined_book = self.count_words() + other_book.count_words()\n",
    "            return combined_book\n",
    "        else:\n",
    "            return None\n",
    "\n",
    "\n",
    "\n",
    "\n"
   ]
  },
  {
   "cell_type": "code",
   "execution_count": 110,
   "metadata": {},
   "outputs": [],
   "source": [
    "crime_and_punishment = Book(\"Crime and Punishment\", \"Fyodor Dostoevsky\", 1866, 'Crime_and_Punishment.txt')"
   ]
  },
  {
   "cell_type": "code",
   "execution_count": 111,
   "metadata": {},
   "outputs": [],
   "source": [
    "idiot = Book(\"The Idiot\", \"Fyodor Dostoevsky\", 1869, 'Idiot.txt')"
   ]
  },
  {
   "cell_type": "code",
   "execution_count": null,
   "metadata": {},
   "outputs": [],
   "source": [
    "crime_and_punishment.find_unique_words(idiot)"
   ]
  },
  {
   "cell_type": "markdown",
   "metadata": {},
   "source": [
    "### Let's look at a different type of box: Dictionaries.\n"
   ]
  },
  {
   "cell_type": "code",
   "execution_count": 116,
   "metadata": {},
   "outputs": [],
   "source": [
    "books_dict = {\n",
    "    \"Crime and Punishment\": Book(\"Crime and Punishment\", \"Fyodor Dostoevsky\", 1866, 'Crime_and_Punishment.txt'),\n",
    "    \"The Brothers Karamazov\": Book(\"The Brothers Karamazov\", \"Fyodor Dostoevsky\", 1880, None),\n",
    "    \"The Idiot\": Book(\"The Idiot\", \"Fyodor Dostoevsky\", 1869, 'Idiot.txt'),\n",
    "    \"Demons\": Book(\"Demons\", \"Fyodor Dostoevsky\", 1872, None),\n",
    "    \"The Gambler\": Book(\"The Gambler\", \"Fyodor Dostoevsky\", 1867, None),\n",
    "    \"Notes from Underground\": Book(\"Notes from Underground\", \"Fyodor Dostoevsky\", 1864, None),\n",
    "    \"The Adolescent\": Book(\"The Adolescent\", \"Fyodor Dostoevsky\", 1875, None),\n",
    "    \"The Eternal Husband\": Book(\"The Eternal Husband\", \"Fyodor Dostoevsky\", 1869, None),\n",
    "    \"The Dream of a Ridiculous Man\": Book(\"The Dream of a Ridiculous Man\", \"Fyodor Dostoevsky\", 1877, None)\n",
    "}\n"
   ]
  },
  {
   "cell_type": "code",
   "execution_count": 117,
   "metadata": {},
   "outputs": [
    {
     "name": "stdout",
     "output_type": "stream",
     "text": [
      "The Idiot by Fyodor Dostoevsky published in 1869.\n"
     ]
    }
   ],
   "source": [
    "print(books_dict[\"The Idiot\"])\n"
   ]
  },
  {
   "cell_type": "code",
   "execution_count": 119,
   "metadata": {},
   "outputs": [
    {
     "data": {
      "text/plain": [
       "'Fyodor Dostoevsky'"
      ]
     },
     "execution_count": 119,
     "metadata": {},
     "output_type": "execute_result"
    }
   ],
   "source": [
    "books_dict[\"The Idiot\"].author"
   ]
  },
  {
   "cell_type": "code",
   "execution_count": 120,
   "metadata": {},
   "outputs": [
    {
     "data": {
      "text/plain": [
       "24828"
      ]
     },
     "execution_count": 120,
     "metadata": {},
     "output_type": "execute_result"
    }
   ],
   "source": [
    "books_dict[\"The Idiot\"].count_unique_words()"
   ]
  },
  {
   "cell_type": "markdown",
   "metadata": {},
   "source": [
    "### Let's consider different types of items in our box. \n",
    "### A mathematician cannot live without numbers and a writer cannot enjoy a world without words."
   ]
  },
  {
   "cell_type": "markdown",
   "metadata": {},
   "source": [
    "### Let's start with the mathematician."
   ]
  },
  {
   "cell_type": "code",
   "execution_count": 121,
   "metadata": {},
   "outputs": [],
   "source": [
    "numbers = [2, 3, 5, 7, 11, 3.5, 3 + 4j, 'Python']"
   ]
  },
  {
   "cell_type": "code",
   "execution_count": 122,
   "metadata": {},
   "outputs": [
    {
     "name": "stdout",
     "output_type": "stream",
     "text": [
      "2 is an integer.\n",
      "3 is an integer.\n",
      "5 is an integer.\n",
      "7 is an integer.\n",
      "11 is an integer.\n",
      "3.5 is a float.\n",
      "3.5 can be written as an integer ratio of (7, 2)\n",
      "(3+4j) is a complex number.\n",
      "Python is not a number.\n"
     ]
    }
   ],
   "source": [
    "for number in numbers:\n",
    "    if isinstance(number, int):\n",
    "        print (f\"{number} is an integer.\")\n",
    "    elif isinstance(number, float):\n",
    "        print (f\"{number} is a float.\")\n",
    "        print(f\"{number} can be written as an integer ratio of \"\n",
    "        f\"{number.as_integer_ratio()}\")\n",
    "    elif isinstance(number, complex):\n",
    "        print (f\"{number} is a complex number.\")\n",
    "    else:\n",
    "        print(f\"{number} is not a number.\") "
   ]
  },
  {
   "cell_type": "markdown",
   "metadata": {},
   "source": [
    "### Let's tidy up."
   ]
  },
  {
   "cell_type": "code",
   "execution_count": 123,
   "metadata": {},
   "outputs": [
    {
     "name": "stdout",
     "output_type": "stream",
     "text": [
      "Integers: [2, 3, 5, 7, 11]\n",
      "Floats: {3.5: (7, 2), 1.4142135623730951: (6369051672525773, 4503599627370496), 3.141592653589793: (884279719003555, 281474976710656)}\n",
      "Complex numbers: [(3+4j), (12+1j), (7+5j)]\n",
      "Other types: ['Python']\n"
     ]
    }
   ],
   "source": [
    "from math import pi\n",
    "\n",
    "numbers = [2, 3, 5, 7, 11, 3.5, 2 ** .5, 3 + 4j, 12 + 1j, 7 + 5j, pi, 'Python']\n",
    "int_box, complex_box, other_box = [], [], []\n",
    "float_box = {}\n",
    "\n",
    "for number in numbers:\n",
    "    if isinstance(number, int):\n",
    "        int_box.append(number)\n",
    "    elif isinstance(number, float):\n",
    "        float_box[number] = number.as_integer_ratio()\n",
    "    elif isinstance(number, complex):\n",
    "        complex_box.append(number)\n",
    "    else:\n",
    "        other_box.append(number)\n",
    "\n",
    "# Print the updated boxes\n",
    "print(\"Integers:\", int_box)\n",
    "print(\"Floats:\", float_box)\n",
    "print(\"Complex numbers:\", complex_box)\n",
    "print(\"Other types:\", other_box)\n"
   ]
  },
  {
   "cell_type": "markdown",
   "metadata": {},
   "source": [
    "Using dictionary:\n"
   ]
  },
  {
   "cell_type": "code",
   "execution_count": 127,
   "metadata": {},
   "outputs": [
    {
     "name": "stdout",
     "output_type": "stream",
     "text": [
      "int: [1, 42]\n",
      "str: ['hello', 'world']\n",
      "float: [3.14, 1.2]\n",
      "bool: [True]\n",
      "tuple: [(1, 2)]\n",
      "builtin_function_or_method: [<built-in function print>]\n",
      "type: [<class '__main__.Book'>]\n",
      "function: [<function categorize_data_types at 0x10d1d3560>]\n",
      "dict: [{'key': 'value'}, {'primes': [2, 3, 5]}]\n",
      "NoneType: [None]\n",
      "Book: [<__main__.Book object at 0x10d04bb10>]\n"
     ]
    }
   ],
   "source": [
    "def categorize_data_types(data_list):\n",
    "    result_dict = {}\n",
    "\n",
    "    for item in data_list:\n",
    "        data_type = type(item).__name__\n",
    "        \n",
    "        if data_type not in result_dict:\n",
    "            result_dict[data_type] = [item]\n",
    "        else:\n",
    "            result_dict[data_type].append(item)\n",
    "\n",
    "    return result_dict\n",
    "\n",
    "# Example Usage:\n",
    "mixed_data = [1, 'hello', 3.14, True, (1, 2), print, Book, categorize_data_types, {'key': 'value'}, None, 1.2, 'world', 42, idiot, {'primes': [2, 3, 5]}]\n",
    "result = categorize_data_types(mixed_data)\n",
    "\n",
    "# Print the result\n",
    "for data_type, values in result.items():\n",
    "    print(f\"{data_type}: {values}\")"
   ]
  },
  {
   "cell_type": "code",
   "execution_count": null,
   "metadata": {},
   "outputs": [],
   "source": []
  }
 ],
 "metadata": {
  "kernelspec": {
   "display_name": "Python 3.11.3 64-bit",
   "language": "python",
   "name": "python3"
  },
  "language_info": {
   "codemirror_mode": {
    "name": "ipython",
    "version": 3
   },
   "file_extension": ".py",
   "mimetype": "text/x-python",
   "name": "python",
   "nbconvert_exporter": "python",
   "pygments_lexer": "ipython3",
   "version": "3.11.3"
  },
  "orig_nbformat": 4,
  "vscode": {
   "interpreter": {
    "hash": "b0fa6594d8f4cbf19f97940f81e996739fb7646882a419484c72d19e05852a7e"
   }
  }
 },
 "nbformat": 4,
 "nbformat_minor": 2
}
