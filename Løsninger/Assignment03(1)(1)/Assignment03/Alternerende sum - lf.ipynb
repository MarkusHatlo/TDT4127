{
 "cells": [
  {
   "cell_type": "code",
   "execution_count": null,
   "metadata": {},
   "outputs": [],
   "source": [
    "#Task a\n",
    "n=int(input(\"n=: \"))\n",
    "sum=0\n",
    "for a in range(1,n+1):\n",
    "    if a%2==0:\n",
    "        sum-= a**2\n",
    "    else:\n",
    "        sum+= a**2  \n",
    "print(\"The sum of the series is\",sum)\n",
    " \n",
    "#Task b\n",
    "k = int( input (\"k = \"))\n",
    "s = 0\n",
    "i = 1\n",
    "while True :\n",
    "    new_s = s + ((-1)**(i+1) * i**2)      #(-1)**(i+1) make all terms that are whole-numbers negative\n",
    "    if new_s > k:\n",
    "        break                             # \"Break\" makes the loop terminate\n",
    "    s = new_s\n",
    "    i += 1\n",
    "print (\"Summen av tallene før summen blir større enn k er %d. Antall iterasjoner: %d\" % (s, i-1))\n"
   ]
  }
 ],
 "metadata": {
  "kernelspec": {
   "display_name": "Python 3",
   "language": "python",
   "name": "python3"
  },
  "language_info": {
   "codemirror_mode": {
    "name": "ipython",
    "version": 3
   },
   "file_extension": ".py",
   "mimetype": "text/x-python",
   "name": "python",
   "nbconvert_exporter": "python",
   "pygments_lexer": "ipython3",
   "version": "3.7.3"
  }
 },
 "nbformat": 4,
 "nbformat_minor": 2
}
