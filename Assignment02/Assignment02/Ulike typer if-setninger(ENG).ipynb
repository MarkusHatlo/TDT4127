{
 "cells": [
  {
   "cell_type": "markdown",
   "metadata": {
    "deletable": false,
    "editable": false,
    "run_control": {
     "frozen": true
    }
   },
   "source": [
    "# Different types of if statements\n",
    "\n",
    "**Learning goals:**\n",
    "\n",
    "- Conditions\n",
    "\n",
    "**Starting Out with Python:**\n",
    "\n",
    "- Chapt. 3.1- 3.2\n",
    "- Chapt. 3.4"
   ]
  },
  {
   "cell_type": "markdown",
   "metadata": {
    "deletable": false,
    "editable": false,
    "heading_collapsed": true,
    "run_control": {
     "frozen": true
    }
   },
   "source": [
    "## Overview of if statements\n",
    "This is not a part of the task, but it could be useful to read before you begin. **Press the arrow on the left in order to read**"
   ]
  },
  {
   "cell_type": "markdown",
   "metadata": {
    "ExecuteTime": {
     "end_time": "2019-07-01T08:54:49.298821Z",
     "start_time": "2019-07-01T08:54:49.289265Z"
    },
    "deletable": false,
    "editable": false,
    "hidden": true,
    "run_control": {
     "frozen": true
    }
   },
   "source": [
    "In the tasks of assignment 1, all the statements in each program would execute every time the program was run. Most useful programs are not that simple. Oftentimes certain actions should only be executed under given conditions. Overtime salary should only be paid if someone has worked overtime. The monster you are fighting in a game, should only lose health if you actually hit it with your sword/gun. An alarm should only be activated if the patient's heart rhythm is irregular. A social app on your phone should only send notifications if you for instance have received new messages. The code block below demonstrates an example where all lines of code are executed; this program will recommend using an umbrella no matter what the weather is."
   ]
  },
  {
   "cell_type": "code",
   "execution_count": null,
   "metadata": {
    "ExecuteTime": {
     "end_time": "2019-07-01T08:54:49.298821Z",
     "start_time": "2019-07-01T08:54:49.289265Z"
    },
    "hidden": true
   },
   "outputs": [],
   "source": [
    "rain = float(input(\"How many mm of rain is forecasted? \"))\n",
    "print(\"Then I recommend brining an umbrella!\")\n",
    "print(\"Have a nice trip to the university!\")"
   ]
  },
  {
   "cell_type": "markdown",
   "metadata": {
    "ExecuteTime": {
     "end_time": "2019-07-01T08:54:49.298821Z",
     "start_time": "2019-07-01T08:54:49.289265Z"
    },
    "deletable": false,
    "editable": false,
    "hidden": true,
    "run_control": {
     "frozen": true
    }
   },
   "source": [
    "Umbrella should only be recommend if it is needed, for instance if it was forecasted more than 0.2 mm rain. We can accomplish this using an if-else statement:"
   ]
  },
  {
   "cell_type": "code",
   "execution_count": null,
   "metadata": {
    "ExecuteTime": {
     "end_time": "2019-07-01T08:54:49.298821Z",
     "start_time": "2019-07-01T08:54:49.289265Z"
    },
    "code_folding": [],
    "hidden": true
   },
   "outputs": [],
   "source": [
    "rain = float(input(\"How many mm of rain is forecasted? \"))\n",
    "if rain > 0.2:\n",
    "    print(\"Then I recommend brining an umbrella!\")\n",
    "print(\"Have a nice trip to the university!\")"
   ]
  },
  {
   "cell_type": "markdown",
   "metadata": {
    "ExecuteTime": {
     "end_time": "2019-07-01T08:54:49.298821Z",
     "start_time": "2019-07-01T08:54:49.289265Z"
    },
    "deletable": false,
    "editable": false,
    "hidden": true,
    "run_control": {
     "frozen": true
    }
   },
   "source": [
    "The above code block displays an if statement. It has the following structure:\n",
    "\n",
    "- it starts with the word `if`, this is a reserved word in Python and can therefore not be used to name variables\n",
    "- following `if` is a logical condition - in this case `rain > 0.2` - which will either be true (`True`) or false (`False`), depending on the value of the variable rain.\n",
    "- there **has** to be a `:` **colon** following the condition, without it you will receive a syntax error.\n",
    "- the line of code directly beneath the if, must have an indentation. This means that this line - `print(\"Then I recommend bringing an umbrella!\")` -  is a part of the if statement.  This line will only be executed **if the condition of the if statement is true**, which is the case when the user inputs a number greater than 0.2\n",
    "\n",
    "The last statement, `print(\"Have a nice trip to the university!\")`, is not indented, and as such will be executed independently of the if statement."
   ]
  },
  {
   "cell_type": "markdown",
   "metadata": {
    "ExecuteTime": {
     "end_time": "2019-07-01T08:54:49.298821Z",
     "start_time": "2019-07-01T08:54:49.289265Z"
    },
    "deletable": false,
    "editable": false,
    "hidden": true,
    "run_control": {
     "frozen": true
    }
   },
   "source": [
    "It is possible to have several statements executed as part of the if statement, for instance:"
   ]
  },
  {
   "cell_type": "code",
   "execution_count": null,
   "metadata": {
    "ExecuteTime": {
     "end_time": "2019-07-01T08:54:49.298821Z",
     "start_time": "2019-07-01T08:54:49.289265Z"
    },
    "hidden": true
   },
   "outputs": [],
   "source": [
    "rain = float(input(\"How many mm of rain is forecasted? \"))\n",
    "if rain > 0.2:\n",
    "    print(\"Then I recommend brining an umbrella!\")\n",
    "    print(\"Perhaps with an NTNU logo.\")\n",
    "print(\"Have a nice trip to the university!\")"
   ]
  },
  {
   "cell_type": "markdown",
   "metadata": {
    "ExecuteTime": {
     "end_time": "2019-07-01T08:54:49.298821Z",
     "start_time": "2019-07-01T08:54:49.289265Z"
    },
    "deletable": false,
    "editable": false,
    "hidden": true,
    "run_control": {
     "frozen": true
    }
   },
   "source": [
    "Here both \"print\"-statements about the umbrealla will be executed **only** if the condition is true, while the \"Have a nice trip\" statement will be executed no matter the outcome of the if statement.\n",
    "\n",
    "**In other words: In Python, indentations show how many of the following statements are being controlled by the condition of the if statement.** As such it is important to place all statements at their correct indentation level.\n",
    "\n",
    "Feel free to test the code above with different inputs for rain to see how it works."
   ]
  },
  {
   "cell_type": "markdown",
   "metadata": {
    "deletable": false,
    "editable": false,
    "run_control": {
     "frozen": true
    }
   },
   "source": [
    "## a)"
   ]
  },
  {
   "cell_type": "markdown",
   "metadata": {
    "deletable": false,
    "editable": false,
    "run_control": {
     "frozen": true
    }
   },
   "source": [
    "You make a banana cake which has to cook in the oven for at least 50 minutes. As a start use the following program, which has a weakness; it says the cake is ready no matter how long it has been in the oven.\n",
    "\n",
    "___Modify the program so that  \"The cake is ready\" is only printed if the cake has been in the oven for at least 50 minutes. \"Greater than or equal to\" is written in Python as >=___  \n",
    "___However, recommended condements should always be printed.___"
   ]
  },
  {
   "cell_type": "code",
   "execution_count": null,
   "metadata": {
    "ExecuteTime": {
     "end_time": "2019-07-01T15:44:45.569935Z",
     "start_time": "2019-07-01T15:44:42.453083Z"
    }
   },
   "outputs": [],
   "source": [
    "time = int(input(\"How many minutes has the cake been in the oven? \"))\n",
    "print(\"The cake is ready.\")\n",
    "print(\"Recommended condement: vanilla ice cream.\")"
   ]
  },
  {
   "cell_type": "markdown",
   "metadata": {
    "deletable": false,
    "editable": false,
    "run_control": {
     "frozen": true
    }
   },
   "source": [
    "Output examples from three different runs, if you did it correctly:\n",
    "```\n",
    "How many minutes has the cake been in the oven? 35  \n",
    "Recommended condement: vanilla ice cream.\n",
    ">>>  \n",
    "  \n",
    "How many minutes has the cake been in the oven? 50  \n",
    "The cake is ready.\n",
    "Recommended condement: vanilla ice cream.\n",
    ">>>\n",
    "  \n",
    "How many minutes has the cake been in the oven? 65  \n",
    "The cake is ready.\n",
    "Recommended condement: vanilla ice cream.\n",
    ">>>\n",
    "```"
   ]
  },
  {
   "cell_type": "markdown",
   "metadata": {
    "deletable": false,
    "editable": false,
    "run_control": {
     "frozen": true
    }
   },
   "source": [
    "## b)"
   ]
  },
  {
   "cell_type": "markdown",
   "metadata": {
    "ExecuteTime": {
     "end_time": "2019-07-01T10:03:17.573938Z",
     "start_time": "2019-07-01T10:03:17.564290Z"
    },
    "deletable": false,
    "editable": false,
    "run_control": {
     "frozen": true
    }
   },
   "source": [
    "Start with the following program, which asks the user to input the amount of apples and children, and then calculates how many apples each child gets."
   ]
  },
  {
   "cell_type": "code",
   "execution_count": null,
   "metadata": {
    "ExecuteTime": {
     "end_time": "2019-07-01T10:06:41.706832Z",
     "start_time": "2019-07-01T10:06:37.363889Z"
    }
   },
   "outputs": [],
   "source": [
    "apples = int(input(\"How many apples do you have? \"))\n",
    "children = int(input(\"How many children? \"))\n",
    "print(\"That will be \", apples // children, \" apples for each child.\")\n",
    "print(\"and\", apples % children, \" apples left for you.\")\n",
    "print(\"Have a good day!\")"
   ]
  },
  {
   "cell_type": "markdown",
   "metadata": {
    "deletable": false,
    "editable": false,
    "run_control": {
     "frozen": true
    }
   },
   "source": [
    "Below are two example runs:\n",
    "```\n",
    "How many apples do you have? 14  \n",
    "How many children? 3  \n",
    "That will be 4 apples for each child.\n",
    "and 2 apples left for you.\n",
    "Have a good day!\n",
    ">>>>```\n",
    " \n",
    "```\n",
    "How many apples do you have? 4  \n",
    "How many children? 0\n",
    "Traceback (most recent call last):  \n",
    "  ...  \n",
    "ZeroDivisionError: integer division or modulo by zero  \n",
    ">>>```\n",
    "\n",
    "The first instance, where the user inputs the numbers 14 and 3, works just fine. If however the user inputs 0 children, the program will respond with the error message (`ZeroDivisionError`) because division by zero is undefined. Negative number of children will \"work\", but not make any sense.\n",
    "\n",
    "___Modify the code so that the two print statements that informs of how many apples for the children and yourself is ONLY executed if children > 0. \"Have a good day! should always be printed.___\n",
    "\n",
    "Program runs in which children > 0 should give the same result as the example at the top. The example below demonstrates the run if 0 is input for number of children.\n",
    "\n",
    " ```\n",
    "How many apples do you have? 4\n",
    "How many children? 0  \n",
    "Have a good day!\n",
    "```\n",
    " "
   ]
  },
  {
   "cell_type": "markdown",
   "metadata": {
    "deletable": false,
    "editable": false,
    "heading_collapsed": true,
    "run_control": {
     "frozen": true
    }
   },
   "source": [
    "## Overview of if-else statements\n",
    "This is not a part of the task, but it could be useful to read before you begin. **Press the arrow on the left in order to read**"
   ]
  },
  {
   "cell_type": "markdown",
   "metadata": {
    "deletable": false,
    "editable": false,
    "hidden": true,
    "run_control": {
     "frozen": true
    }
   },
   "source": [
    "In the examples associated with (a) and (b) we were doing something extra if a condition was true, otherwise not. In other cases we may want to perform a certain action if the condition is true and a different action if it is false.\n",
    "\n",
    "We can accomplish this with an **if-else** statement. The example below builds further upon the corresponding example for if statements."
   ]
  },
  {
   "cell_type": "code",
   "execution_count": null,
   "metadata": {
    "ExecuteTime": {
     "start_time": "2019-07-01T10:30:04.105Z"
    },
    "hidden": true
   },
   "outputs": [],
   "source": [
    "rain = float(input(\"How many mm of rain is forecasted? \"))\n",
    "if rain > 0.2:\n",
    "    print(\"Then I recommend brining an umbrella!\")\n",
    "    print(\"Perhaps with an NTNU logo.\")\n",
    "else:\n",
    "    print(\"How about a T shirt with NTNU logo\")\n",
    "print(\"Have a nice trip to the university!\")"
   ]
  },
  {
   "cell_type": "markdown",
   "metadata": {
    "deletable": false,
    "editable": false,
    "hidden": true,
    "run_control": {
     "frozen": true
    }
   },
   "source": [
    "In this example, the following will happen if the user responds with more than 0.2 mm so that the condition is true:\n",
    "\n",
    "**Example run with more than 0.2 mm rain:**\n",
    "```\n",
    "How many mm of rain is forecasted? 0.5\n",
    "Then I recommend brining an umbrella!\n",
    "Perhaps with an NTNU logo.\n",
    "Have a nice trip to the university!\n",
    "```\n",
    "\n",
    "On the other hand, if the user responds with a smaller number, the condition will be false, and the following happens:\n",
    "\n",
    "**Example run with less than 0.2 mm rain:**  \n",
    "```\n",
    "How many mm of rain is forecasted? 0.0\n",
    "How about a T shirt with NTNU logo\n",
    "Have a nice trip to the university!\n",
    "```\n",
    "\n",
    "Summary:\n",
    "- The two indented statements beneath `if` are only executed if the condition is true.\n",
    "- The indented statement beneath `else` is only executed if the condition is false (we could have had multiple indented statements after `else` as well).\n",
    "- The final print, which has no indentation (\"Have a nice trip..\"), is always executed."
   ]
  },
  {
   "cell_type": "markdown",
   "metadata": {
    "deletable": false,
    "editable": false,
    "run_control": {
     "frozen": true
    }
   },
   "source": [
    "## c)"
   ]
  },
  {
   "cell_type": "markdown",
   "metadata": {
    "deletable": false,
    "editable": false,
    "run_control": {
     "frozen": true
    }
   },
   "source": [
    "In this subtask, you are going to create a program that checks whether a person can vote, i.e. whether the user is 18 years old or more. To accomplish this, you have to ask the user for their age and save the response in a variable, and use this to determine whether the user's age is 18 or more.\n",
    "\n",
    "**Example run:**\n",
    "\n",
    "```\n",
    "Input your age: 19\n",
    "You can vote:)\n",
    "```\n",
    "  \n",
    "```\n",
    "Input your age: 18\n",
    "You can vote:)\n",
    "```\n",
    "  \n",
    "```\n",
    "Input your age: 2\n",
    "You cannot vote yet\n",
    "```\n",
    "\n",
    "***Input your code here:***"
   ]
  },
  {
   "cell_type": "code",
   "execution_count": null,
   "metadata": {},
   "outputs": [],
   "source": []
  },
  {
   "cell_type": "markdown",
   "metadata": {
    "deletable": false,
    "editable": false,
    "heading_collapsed": true,
    "run_control": {
     "frozen": true
    }
   },
   "source": [
    "#### Approach\n",
    "Press the arrow on the left to read"
   ]
  },
  {
   "cell_type": "markdown",
   "metadata": {
    "deletable": false,
    "editable": false,
    "hidden": true,
    "run_control": {
     "frozen": true
    }
   },
   "source": [
    "1. Create a variable named `age` by writing:\n",
    "2. `age = int(input(\"Input your age: \"))`\n",
    "3. Check, using if, whether the person's age is greater than or equal to 18 (`age >= 18`). If this is the case, \"You can vote :)\" should be printed out.\n",
    "\n",
    "Make an `else` block with the code `print(\"You cannot vote yet\")`\n",
    "\n",
    "(There are several possible solutions to this task.)"
   ]
  },
  {
   "cell_type": "markdown",
   "metadata": {
    "deletable": false,
    "editable": false,
    "heading_collapsed": true,
    "run_control": {
     "frozen": true
    }
   },
   "source": [
    "## Overview of if-elif-else statements\n",
    "You may read this before you move on.  **Press the arrow on the left to read**"
   ]
  },
  {
   "cell_type": "markdown",
   "metadata": {
    "deletable": false,
    "editable": false,
    "hidden": true,
    "run_control": {
     "frozen": true
    }
   },
   "source": [
    "In the examples we have seen so far, there has only been two possible outcomes of the conditions - the cake has been in the oven >= 50 minutes, or not; the number of children is > 0, or not; the age is >= 18, or not. In many practical situations, there could be three or more possible outcomes.\n",
    "\n",
    "For instance, if it was forecasted more than 3 mm rain, perhaps an umbrella is not enough, and we would rather recommend boots and rainwear. Our previous example could then be extended as follows:"
   ]
  },
  {
   "cell_type": "code",
   "execution_count": null,
   "metadata": {
    "hidden": true
   },
   "outputs": [],
   "source": [
    "# EXAMPLE 1\n",
    "rain = float(input(\"How many mm of rain is forecasted? \"))\n",
    "if rain > 3.0:\n",
    "    print(\"Then I recommend boots and rainwear!\")\n",
    "elif rain > 0.2:\n",
    "    print(\"Then I recommend brining an umbrella!\")\n",
    "    print(\"Perhaps with an NTNU logo.\")\n",
    "else:\n",
    "    print(\"How about a T shirt with NTNU logo\")\n",
    "print(\"Have a nice trip to the university!\")"
   ]
  },
  {
   "cell_type": "markdown",
   "metadata": {
    "deletable": false,
    "editable": false,
    "hidden": true,
    "run_control": {
     "frozen": true
    }
   },
   "source": [
    "Below, three different runs of the code are demonstrated:\n",
    "\n",
    "```\n",
    "How many mm of rain is forecasted? 4.2\n",
    "Then I recommend boots and rainwear!\n",
    "Have a nice trip to the university!\n",
    ">>>\n",
    "```\n",
    "\n",
    "```\n",
    "How many mm of rain is forecasted? 0.5\n",
    "Then I recommend bringing an umbrella!\n",
    "Perhaps with an NTNU logo.\n",
    "Have a nice trip to the university!\n",
    ">>>\n",
    "```\n",
    "\n",
    "```\n",
    "How many mm of rain is forecasted? 0.0\n",
    "How about a T shirt with NTNU logo\n",
    "Have a nice trip to the university!\n",
    "```"
   ]
  },
  {
   "cell_type": "markdown",
   "metadata": {
    "deletable": false,
    "editable": false,
    "hidden": true,
    "run_control": {
     "frozen": true
    }
   },
   "source": [
    "If the condition `rain > 3.0` is true, only the print recommending boots and rainwear is executed, then the program skips to the first statement after the entire if-elif-else statement (\"Have a nice trip...\")\n",
    "\n",
    "If the condition `rain > 3.0` is false, the print recommending boots and rainwear is **not** executed. Instead, the program checks the condition at `elif`. If this is true, the program executes the statements about the umbrella, otherwise T shirt, as before.\n",
    "\n",
    "One can always convert if-elif-else statements to nested if-else statements to accomplish the same. The example above could alternatively be written as:"
   ]
  },
  {
   "cell_type": "code",
   "execution_count": null,
   "metadata": {
    "hidden": true
   },
   "outputs": [],
   "source": [
    "# EXAMPLE 2\n",
    "rain = float(input(\"How many mm of rain is forecasted? \"))\n",
    "if rain > 3.0:\n",
    "    print(\"Then I recommend brining an umbrella!\")\n",
    "else:\n",
    "    if rain > 0.2:\n",
    "        print(\"Then I recommend brining an umbrella!\")\n",
    "        print(\"Perhaps with an NTNU logo.\")\n",
    "    else:\n",
    "        print(\"How about a T shirt with NTNU logo\")\n",
    "print(\"Have a nice trip to the university!\")"
   ]
  },
  {
   "cell_type": "markdown",
   "metadata": {
    "deletable": false,
    "editable": false,
    "hidden": true,
    "run_control": {
     "frozen": true
    }
   },
   "source": [
    "Especially in cases where there are three or more alternative outcomes based on the **same variable** (e.g. `rain` here), most will perceive **if-elif-else** statements as both easier to write and easier to understand, rather than several nested if-else statements.\n",
    "\n",
    "One typical example is the number of accomplished points on an exam, which than be transformed to the letter grades A-F. Then there are 6 possible outcomes, and this results in a lot of indentation that makes it harder to read when using nested if statements:"
   ]
  },
  {
   "cell_type": "code",
   "execution_count": null,
   "metadata": {
    "hidden": true
   },
   "outputs": [],
   "source": [
    "# EXAMPLE 3\n",
    "score = int(input(\"Number of points: \"))\n",
    "  \n",
    "if score >= 89:\n",
    "    grade = \"A\"\n",
    "else:\n",
    "    if score >= 77:\n",
    "        grade = \"B\"\n",
    "    else:\n",
    "        if score >= 65:\n",
    "            grade = \"C\"\n",
    "        else:\n",
    "            if score >= 53:\n",
    "                grade = \"D\"\n",
    "            else:\n",
    "                if score >= 41:\n",
    "                    grade = \"E\"\n",
    "                else:\n",
    "                    gade = \"F\"\n",
    "  \n",
    "print(\"You got\", grade)"
   ]
  },
  {
   "cell_type": "markdown",
   "metadata": {
    "deletable": false,
    "editable": false,
    "hidden": true,
    "run_control": {
     "frozen": true
    }
   },
   "source": [
    "Using If-elif-else statement is clearly preferrable in this situation; it is much easier to see that the code here makes a decision with 6 alternatives based on a single variable."
   ]
  },
  {
   "cell_type": "code",
   "execution_count": null,
   "metadata": {
    "hidden": true
   },
   "outputs": [],
   "source": [
    "# EXAMPLE 4\n",
    "score = int(input(\"Number of points: \"))\n",
    "  \n",
    "if score >= 89:\n",
    "    grade = \"A\"\n",
    "elif score >= 77:\n",
    "    grade = \"B\"\n",
    "elif score >= 65:\n",
    "    grade = \"C\"\n",
    "elif score >= 53:\n",
    "    grade = \"D\"\n",
    "elif score >= 41:\n",
    "    grade = \"E\"\n",
    "else:\n",
    "    grade = \"F\"\n",
    " \n",
    "print(\"You got\", grade)"
   ]
  },
  {
   "cell_type": "markdown",
   "metadata": {
    "deletable": false,
    "editable": false,
    "hidden": true,
    "run_control": {
     "frozen": true
    }
   },
   "source": [
    "When using if-elif-else, it is important that the conditions appear in the right order. Assume we did the grade example with reversed ordering of the conditions:"
   ]
  },
  {
   "cell_type": "code",
   "execution_count": null,
   "metadata": {
    "hidden": true
   },
   "outputs": [],
   "source": [
    "# EXAMPLE 5\n",
    "# HERE WE HAVE DONE WRONG ON PURPOSE\n",
    "score = int(input(\"Number of points: \"))\n",
    " \n",
    "if score >= 0:\n",
    "    grade = \"F\"\n",
    "elif score >= 41:\n",
    "    grade = \"E\"\n",
    "elif score >= 53:\n",
    "    grade = \"D\"\n",
    "elif score >= 65:\n",
    "    grade = \"C\"\n",
    "elif score >= 77:\n",
    "    grade = \"B\"\n",
    "elif score >= 89:\n",
    "    grade = \"A\"\n",
    " \n",
    "print(\"You got\", karakter)"
   ]
  },
  {
   "cell_type": "markdown",
   "metadata": {
    "deletable": false,
    "editable": false,
    "hidden": true,
    "run_control": {
     "frozen": true
    }
   },
   "source": [
    "Here the top condition will be true for all exam hand ins, and everyone ends up with F as their grade.\n",
    "\n",
    "It is also important, when there are alternatively excluding outcomes of the same decision, that we use **if-elif-else** statement; not a series of independent **if statements**.\n",
    "\n",
    "Example 6 looks nearly identical to Example 4, except that we only write `if` where we used to write `elif`:"
   ]
  },
  {
   "cell_type": "code",
   "execution_count": null,
   "metadata": {
    "hidden": true
   },
   "outputs": [],
   "source": [
    "# EXAMPLE 6\n",
    "# HERE WE HAVE DONE WRONG ON PURPOSE\n",
    "score = int(input(\"Number of points: \"))\n",
    "  \n",
    "if score >= 89:\n",
    "    grade = \"A\"\n",
    "if score >= 77:\n",
    "    grade = \"B\"\n",
    "if score >= 65:\n",
    "    grade = \"C\"\n",
    "if score >= 53:\n",
    "    grade = \"D\"\n",
    "if score >= 41:\n",
    "    grade = \"E\"\n",
    "else:\n",
    "    grade = \"F\"\n",
    " \n",
    "print(\"You got\", grade)"
   ]
  },
  {
   "cell_type": "markdown",
   "metadata": {
    "deletable": false,
    "editable": false,
    "hidden": true,
    "run_control": {
     "frozen": true
    }
   },
   "source": [
    "A student that has received 92 points will receive the correct result from the first if statement, and grade will be set to A. However 92 > 77 is also true. In turn the grade is changed to B, then to C, then to D, then to E.\n",
    "\n",
    "The only cases this program will handle correctly is consequently students that are supposed to receive an E or an F.\n",
    "\n",
    "\n",
    "The fault here is that we are using independent if statements (i.e. unrelated to each other), while we are dealing with mutually exclusive alternatives that should have been solved using if-elif-else.\n",
    "\n",
    "Where would it be correct to use independent if statements? In the case where there are several independent decisions. In example 7 shown below, there are two independent decisions. The first one is whether to bring an umbrella or not. The other one is whether to bring crampons or not. Each decision is made indepdently of the other, and therefore two independent if statements works correctly.\n",
    "\n",
    "If we had used if-elif instead, the program would not have worked correctly, as it would only be able to recommend crampons in dry weather (but it could be equally slippery if it rains)."
   ]
  },
  {
   "cell_type": "code",
   "execution_count": null,
   "metadata": {
    "ExecuteTime": {
     "start_time": "2019-07-01T11:00:12.045Z"
    },
    "hidden": true
   },
   "outputs": [],
   "source": [
    "# Example 7\n",
    "rain = float(input(\"How many mm of rain is forecasted? \"))\n",
    "slippery = int(input(\"On a scale of 0 (not) to 10 (very slippery), how slippery is it? \"))\n",
    "if rain > 0.2:\n",
    "    print(\"Then I recommend brining an umbrella!\")\n",
    "if slippery > 8:\n",
    "    print(\"Then I recommend shoes with crampons or spikes.\")"
   ]
  },
  {
   "cell_type": "markdown",
   "metadata": {
    "deletable": false,
    "editable": false,
    "hidden": true,
    "run_control": {
     "frozen": true
    }
   },
   "source": [
    "In other cases, a decision may depend on another, e.g. only be applicable for a particular result of the prior if statement. As demonstrated in example 8 below:"
   ]
  },
  {
   "cell_type": "code",
   "execution_count": null,
   "metadata": {
    "hidden": true
   },
   "outputs": [],
   "source": [
    "# Example 8\n",
    "rain = float(input(\"How many mm of rain is forecasted? \"))\n",
    "wind = float(input(\"Hvor many m/s of wind is forecasted? \"))\n",
    "if rain > 0.2:\n",
    "    if wind < 7.0:\n",
    "        print(\"Then I recommend brining an umbrella!\")\n",
    "    else:\n",
    "        print(\"Recommend rainwear, too much wind for umbrellas.\")"
   ]
  },
  {
   "cell_type": "markdown",
   "metadata": {
    "deletable": false,
    "editable": false,
    "hidden": true,
    "run_control": {
     "frozen": true
    }
   },
   "source": [
    "Here `rain > 0.2:` ..... `elif wind < 7.0` would not work.\n",
    "\n",
    "The program would only check the value of wind if it weren't raining, and therefore would be unable to advice against using an umbrella if it were both raining windy.\n",
    "\n",
    "**Summary:**\n",
    "\n",
    "- several independent decisions: use independent if statements\n",
    "- decision with mutually exclusive alternative actions: use if-else (2 alternatives) or if-elif-else (3 or more)\n",
    "- decisions related in some other way, for instance that a condition (such as `wind < 7.0` above) is only applicable given the outcome of a different condition: can be solved by using several nested if statements.\n"
   ]
  },
  {
   "cell_type": "markdown",
   "metadata": {
    "deletable": false,
    "editable": false,
    "run_control": {
     "frozen": true
    }
   },
   "source": [
    "## d)"
   ]
  },
  {
   "cell_type": "markdown",
   "metadata": {
    "deletable": false,
    "editable": false,
    "run_control": {
     "frozen": true
    }
   },
   "source": [
    "Create an extended version of the program from (c) that tells a person whether they can vote or not, using the following rules:\n",
    "- `age >= 18`: Can vote at the local election and the national election.\n",
    "- `age >= 16`: Can vote at the local election, but not the national election.\n",
    "- otherwise (`age < 16`): Cannot vote.\n",
    "\n",
    "Example run:\n",
    "\n",
    "```\n",
    "Input your age: 19\n",
    "You can vote at both the local election and the national election.\n",
    ">>>>\n",
    "```\n",
    "\n",
    "```\n",
    "Input your age: 17\n",
    "You can vote at the local election, but not the national election.\n",
    ">>>>\n",
    "```\n",
    "\n",
    "```\n",
    "Input your age: 12\n",
    "You cannot vote yet.\n",
    "```\n",
    "\n",
    "___Input your code here:___"
   ]
  },
  {
   "cell_type": "code",
   "execution_count": null,
   "metadata": {},
   "outputs": [],
   "source": []
  },
  {
   "cell_type": "markdown",
   "metadata": {
    "deletable": false,
    "editable": false,
    "run_control": {
     "frozen": true
    }
   },
   "source": [
    "## e)"
   ]
  },
  {
   "cell_type": "markdown",
   "metadata": {
    "deletable": false,
    "editable": false,
    "run_control": {
     "frozen": true
    }
   },
   "source": [
    "You are going to create a program that determines the ticket price  given the person's age.\n",
    "\n",
    "Overview of ticket prices for each age group:\n",
    "\n",
    "Age group | Ticket price\n",
    "--- | ---\n",
    "Less than 3 years | Free\n",
    "3-11 years | 30 kr\n",
    "12-25 years | 50 kr\n",
    "26-66 years | 80 kr\n",
    "67 years and above | 40 kr"
   ]
  },
  {
   "cell_type": "markdown",
   "metadata": {
    "deletable": false,
    "editable": false,
    "run_control": {
     "frozen": true
    }
   },
   "source": [
    "___Input your code here:___"
   ]
  },
  {
   "cell_type": "code",
   "execution_count": null,
   "metadata": {},
   "outputs": [],
   "source": []
  },
  {
   "cell_type": "markdown",
   "metadata": {
    "deletable": false,
    "editable": false,
    "heading_collapsed": true,
    "run_control": {
     "frozen": true
    }
   },
   "source": [
    "#### Approach\n",
    "Press the arrow to the left"
   ]
  },
  {
   "cell_type": "markdown",
   "metadata": {
    "deletable": false,
    "editable": false,
    "hidden": true,
    "run_control": {
     "frozen": true
    }
   },
   "source": [
    "1. First you have to get the person's age. This can be done by creating a variabe and getting input from the user using: \n",
    "\n",
    "    `age = int(input(\"Your age: \"))`\n",
    "2. Now that you have the person's age, you have to determine their ticket price using an if-elif-else statement:\n",
    "\n",
    "```\n",
    "if age < 3:\n",
    "  ...\n",
    "elif age < 12:\n",
    "  ...\n",
    "elif ...:\n",
    "  ...\n",
    "elif ...:\n",
    "  ...\n",
    "else:\n",
    "  ...\n",
    "```"
   ]
  }
 ],
 "metadata": {
  "kernelspec": {
   "display_name": "Python 3",
   "language": "python",
   "name": "python3"
  },
  "language_info": {
   "codemirror_mode": {
    "name": "ipython",
    "version": 3
   },
   "file_extension": ".py",
   "mimetype": "text/x-python",
   "name": "python",
   "nbconvert_exporter": "python",
   "pygments_lexer": "ipython3",
   "version": "3.7.1"
  },
  "toc": {
   "base_numbering": 1,
   "nav_menu": {},
   "number_sections": false,
   "sideBar": true,
   "skip_h1_title": false,
   "title_cell": "Table of Contents",
   "title_sidebar": "Contents",
   "toc_cell": false,
   "toc_position": {
    "height": "calc(100% - 180px)",
    "left": "10px",
    "top": "150px",
    "width": "265px"
   },
   "toc_section_display": true,
   "toc_window_display": false
  }
 },
 "nbformat": 4,
 "nbformat_minor": 2
}
