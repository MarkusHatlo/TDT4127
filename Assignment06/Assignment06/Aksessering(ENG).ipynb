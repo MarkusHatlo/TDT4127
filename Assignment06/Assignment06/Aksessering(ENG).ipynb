{
 "cells": [
  {
   "cell_type": "markdown",
   "metadata": {},
   "source": [
    "[Back to assignment 7](_Oving7.ipynb)\n",
    "# Accessing Characters in a String\n",
    "\n",
    "**Learning goals**\n",
    "\n",
    "* Strings\n",
    "* Functions\n",
    "\n",
    "**Starting Out with Python:**\n",
    "\n",
    "* Ch. 8.1\n",
    "\n",
    "This task is about how to access and return the characters in a string."
   ]
  },
  {
   "cell_type": "markdown",
   "metadata": {
    "deletable": false,
    "editable": false,
    "heading_collapsed": true,
    "run_control": {
     "frozen": true
    }
   },
   "source": [
    "### String Accessing Basics"
   ]
  },
  {
   "cell_type": "markdown",
   "metadata": {
    "deletable": false,
    "editable": false,
    "hidden": true,
    "run_control": {
     "frozen": true
    }
   },
   "source": [
    "**Iterating through strings:**\n",
    "\n",
    "It is possible to iterate through string by using a for-loop. The general way of doing it is:"
   ]
  },
  {
   "cell_type": "code",
   "execution_count": null,
   "metadata": {
    "hidden": true
   },
   "outputs": [],
   "source": [
    "for character in string:\n",
    "    # do something"
   ]
  },
  {
   "cell_type": "markdown",
   "metadata": {
    "deletable": false,
    "editable": false,
    "hidden": true,
    "run_control": {
     "frozen": true
    }
   },
   "source": [
    "For each iteration, the `character`variable will refer to a character in `string`, and it will start by referencing the first character. Try to run the code below."
   ]
  },
  {
   "cell_type": "code",
   "execution_count": null,
   "metadata": {
    "hidden": true
   },
   "outputs": [],
   "source": [
    "name = \"Bob Bernt\"\n",
    "for ch in name:\n",
    "    print(ch)"
   ]
  },
  {
   "cell_type": "markdown",
   "metadata": {
    "deletable": false,
    "editable": false,
    "hidden": true,
    "run_control": {
     "frozen": true
    }
   },
   "source": [
    "**Indexing:**\n",
    "\n",
    "Another way of accessing the characters in a string is to use indexing (same as you can use to access elements in a list). Every characther i a string has an index that represents it's placement in the string:\n",
    "\n",
    "![img](./../../Resources/Images/streng-eksempel.png)\n",
    "\n",
    "As you can see in the picture above, the indexing starts at 0, just as in list indexing. To access one of the characters and save it to a variable, you write\n",
    "\n",
    "`char = my_string[3]`\n",
    "\n",
    "This will assignent  `char` to `'e'`\n",
    "\n",
    "Every character in the string can be accessed by *two* numbers, one positive and one negative. If you want the last character in the string(with length 13) you can use 12 or -1 as the index: `char = my_string[12]` and `char = my_string[-1]` will both assign `char` to `d`. "
   ]
  },
  {
   "cell_type": "code",
   "execution_count": null,
   "metadata": {
    "hidden": true
   },
   "outputs": [],
   "source": [
    "# Try running the code\n",
    "my_string = 'Roses are red'\n",
    "  \n",
    "for i in range(5):\n",
    "    print(my_string[i])\n",
    "  \n",
    "for j in range(-7,0,1):\n",
    "    print(my_string[j])"
   ]
  },
  {
   "cell_type": "markdown",
   "metadata": {
    "deletable": false,
    "editable": false,
    "run_control": {
     "frozen": true
    }
   },
   "source": [
    "### a)"
   ]
  },
  {
   "cell_type": "markdown",
   "metadata": {
    "deletable": false,
    "editable": false,
    "run_control": {
     "frozen": true
    }
   },
   "source": [
    "Write a function that takes a string as argument, iterates through this and prints each character to the screen.\n",
    "\n",
    "**Example**:\n",
    "\n",
    "```python\n",
    "#Argument is `Nilfgaard`\n",
    "\n",
    "N\n",
    "i\n",
    "l\n",
    "f\n",
    "g\n",
    "a\n",
    "a\n",
    "r\n",
    "d\n",
    "```\n",
    "\n",
    "***Write code below:***"
   ]
  },
  {
   "cell_type": "code",
   "execution_count": null,
   "metadata": {},
   "outputs": [],
   "source": []
  },
  {
   "cell_type": "markdown",
   "metadata": {
    "deletable": false,
    "editable": false,
    "run_control": {
     "frozen": true
    }
   },
   "source": [
    "### b)"
   ]
  },
  {
   "cell_type": "markdown",
   "metadata": {
    "deletable": false,
    "editable": false,
    "run_control": {
     "frozen": true
    }
   },
   "source": [
    "Write a function named `third_letter(string)` which takes a string as argument an return the third character in the string. if the length of the string is too short, the function should return `'q'`'.\n",
    "\n",
    "***Write code below:***"
   ]
  },
  {
   "cell_type": "code",
   "execution_count": null,
   "metadata": {},
   "outputs": [],
   "source": []
  },
  {
   "cell_type": "markdown",
   "metadata": {
    "deletable": false,
    "editable": false,
    "run_control": {
     "frozen": true
    }
   },
   "source": [
    "Check that the code below produces the correct output."
   ]
  },
  {
   "cell_type": "code",
   "execution_count": null,
   "metadata": {
    "ExecuteTime": {
     "end_time": "2019-07-03T11:55:51.890746Z",
     "start_time": "2019-07-03T11:55:51.579310Z"
    }
   },
   "outputs": [],
   "source": [
    "print(third_letter(\"Temeria\"))  # correct is 'm'\n",
    "print(third_letter(\"IT\"))       # correct is 'q'"
   ]
  },
  {
   "cell_type": "markdown",
   "metadata": {
    "deletable": false,
    "editable": false,
    "run_control": {
     "frozen": true
    }
   },
   "source": [
    "### c)"
   ]
  },
  {
   "cell_type": "markdown",
   "metadata": {
    "deletable": false,
    "editable": false,
    "run_control": {
     "frozen": true
    }
   },
   "source": [
    "Write a function that takes a string as argument and return the largest valid index. I.e. the largest index which will not give IndexError.\n",
    "\n",
    "**Example run:**\n",
    "```python\n",
    "#Argument is \"The White Wolf\"\n",
    "13\n",
    "  \n",
    "#Argument is \"Redania\"\n",
    "6\n",
    "```\n",
    "\n",
    "***Write code below:***"
   ]
  },
  {
   "cell_type": "code",
   "execution_count": null,
   "metadata": {
    "ExecuteTime": {
     "end_time": "2019-07-03T12:03:11.713595Z",
     "start_time": "2019-07-03T12:03:11.706770Z"
    }
   },
   "outputs": [],
   "source": []
  }
 ],
 "metadata": {
  "kernelspec": {
   "display_name": "Python 3",
   "language": "python",
   "name": "python3"
  },
  "language_info": {
   "codemirror_mode": {
    "name": "ipython",
    "version": 3
   },
   "file_extension": ".py",
   "mimetype": "text/x-python",
   "name": "python",
   "nbconvert_exporter": "python",
   "pygments_lexer": "ipython3",
   "version": "3.7.1"
  },
  "toc": {
   "base_numbering": 1,
   "nav_menu": {},
   "number_sections": false,
   "sideBar": true,
   "skip_h1_title": false,
   "title_cell": "Table of Contents",
   "title_sidebar": "Contents",
   "toc_cell": false,
   "toc_position": {},
   "toc_section_display": true,
   "toc_window_display": false
  }
 },
 "nbformat": 4,
 "nbformat_minor": 2
}
