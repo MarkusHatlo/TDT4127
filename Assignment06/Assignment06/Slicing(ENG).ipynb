{
 "cells": [
  {
   "cell_type": "markdown",
   "metadata": {
    "deletable": false,
    "editable": false,
    "run_control": {
     "frozen": true
    }
   },
   "source": [
    "[Back to assignment 7](_Oving7.ipynb)\n",
    "\n",
    "# String Slicing\n",
    "\n",
    "**Learning goals:**\n",
    "\n",
    "* Strings\n",
    "* Functions\n",
    "* Lists\n",
    "\n",
    "**Starting Out with Python:**\n",
    "\n",
    "* Ch. 8.2"
   ]
  },
  {
   "cell_type": "markdown",
   "metadata": {
    "deletable": false,
    "editable": false,
    "run_control": {
     "frozen": true
    }
   },
   "source": [
    "### Slicing Basics"
   ]
  },
  {
   "cell_type": "markdown",
   "metadata": {},
   "source": [
    "Slicing can be used to select parts of a string. The general form of string slicing is:\n",
    "`string[start : end : step]`\n",
    "\n",
    "- The new string will start with the character belonging to the index `start`, then the character with index `start + step`, then `start + step + step` and so on untill but not including the character with index `end`.\n",
    "- If `start` is not defined, Python assumes it is `0`\n",
    "- If `end` is not defined, Python assumes it is `len(-1)`\n",
    "- If `step` is not defined, Python assumes it is `1`\n",
    "\n",
    "\n",
    "**Example:**"
   ]
  },
  {
   "cell_type": "code",
   "execution_count": null,
   "metadata": {},
   "outputs": [],
   "source": [
    "# fyi: 'streng' is Norwegian for 'string'\n",
    "\n",
    "streng = \"One ring to rule them all\"\n",
    "print(streng[:3])       #Same as streng[0:3]\n",
    "print(streng[12:16])    \n",
    "print(streng[12:])      #Same as streng[12:len(streng)] and streng[12:25]\n",
    "print(streng[1::9])     "
   ]
  },
  {
   "cell_type": "markdown",
   "metadata": {
    "deletable": false,
    "editable": false,
    "run_control": {
     "frozen": true
    }
   },
   "source": [
    "### a)"
   ]
  },
  {
   "cell_type": "markdown",
   "metadata": {
    "ExecuteTime": {
     "end_time": "2019-07-03T12:34:41.521574Z",
     "start_time": "2019-07-03T12:34:41.512410Z"
    }
   },
   "source": [
    "Write a function that takes a string as argument and returns a new string containg each fourth character in the argument.\n",
    "\n",
    "**Example**\n",
    "\n",
    "```python\n",
    "#streng = \"I Was Told There’d Be Cake\"\n",
    "-> Islh’ek\n",
    "```\n",
    "\n",
    "***Write code below***"
   ]
  },
  {
   "cell_type": "code",
   "execution_count": null,
   "metadata": {},
   "outputs": [],
   "source": []
  },
  {
   "cell_type": "markdown",
   "metadata": {
    "deletable": false,
    "editable": false,
    "run_control": {
     "frozen": true
    }
   },
   "source": [
    "### b)"
   ]
  },
  {
   "cell_type": "markdown",
   "metadata": {
    "deletable": false,
    "editable": false,
    "run_control": {
     "frozen": true
    }
   },
   "source": [
    "Write a function that takes a list of strings as argument, iterates through the list and returns a string containg the two last characters of all the strings in the list. .\n",
    "\n",
    "**Eksempel:**\n",
    "```python\n",
    "#liste = [\"banan\",\"propan\",\"Westerosi\"]\n",
    "-> anansi\n",
    "```\n",
    "\n",
    "***Write code below***"
   ]
  },
  {
   "cell_type": "code",
   "execution_count": null,
   "metadata": {},
   "outputs": [],
   "source": []
  },
  {
   "cell_type": "markdown",
   "metadata": {
    "deletable": false,
    "editable": false,
    "run_control": {
     "frozen": true
    }
   },
   "source": [
    "### c)"
   ]
  },
  {
   "cell_type": "markdown",
   "metadata": {
    "deletable": false,
    "editable": false,
    "run_control": {
     "frozen": true
    }
   },
   "source": [
    "Below are three snippets of code, where two of them contain one error each, and one is correct. Which one is correct? Find the error in the two others. Write Your answer in the box below the code."
   ]
  },
  {
   "cell_type": "code",
   "execution_count": null,
   "metadata": {},
   "outputs": [],
   "source": [
    "#Kodesnutt 1\n",
    "streng = \"I Want Cake\"\n",
    "streng[7:] = \"Cupcake\"\n",
    "print(streng)\n",
    " \n",
    "#Kodesnutt 2\n",
    "streng = \"I Want Cake\"\n",
    "streng = streng[-4:100:]\n",
    "print(streng)\n",
    " \n",
    "#Kodesnutt 3\n",
    "streng = \"I Want Cake\"\n",
    "streng = streng[]\n",
    "print(streng)"
   ]
  },
  {
   "cell_type": "markdown",
   "metadata": {},
   "source": [
    "**Your answer:** <Double click here to write\\>"
   ]
  }
 ],
 "metadata": {
  "kernelspec": {
   "display_name": "Python 3",
   "language": "python",
   "name": "python3"
  },
  "language_info": {
   "codemirror_mode": {
    "name": "ipython",
    "version": 3
   },
   "file_extension": ".py",
   "mimetype": "text/x-python",
   "name": "python",
   "nbconvert_exporter": "python",
   "pygments_lexer": "ipython3",
   "version": "3.7.1"
  },
  "toc": {
   "base_numbering": 1,
   "nav_menu": {},
   "number_sections": false,
   "sideBar": true,
   "skip_h1_title": false,
   "title_cell": "Table of Contents",
   "title_sidebar": "Contents",
   "toc_cell": false,
   "toc_position": {},
   "toc_section_display": true,
   "toc_window_display": false
  }
 },
 "nbformat": 4,
 "nbformat_minor": 2
}
