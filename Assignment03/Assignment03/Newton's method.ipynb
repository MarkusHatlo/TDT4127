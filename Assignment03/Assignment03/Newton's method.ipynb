{
 "cells": [
  {
   "cell_type": "markdown",
   "metadata": {
    "deletable": false,
    "editable": false,
    "run_control": {
     "frozen": true
    }
   },
   "source": [
    "[Back to Assignment 3](_Oving3.ipynb)\n",
    "\n",
    "# Newton's method\n",
    "In this exercise you will use Newton's method for finding roots of the scalar function $f(x)$ to within a certain level of prescision (i.e., some small number $\\texttt{tol}$). Recall that with Newton's method, you make a guess for the root $x_0$, and then you draw a tangent line of $f(x)$ line at $x=x_0$. You then use the root of the tangent line as an $\\it{improved}$ guess of the root, which we will call $x_1$. We then draw another tangent line, now at the point $x_1$ and keep going $n$ times until your guess $x_{n}$ satifies some sort of stopping criteria. \n",
    "\n",
    "Newton's method reads $$x_{k+1}=x_{k}-\\frac{f(x_{k})}{f'(x_{k})},$$ which is the solution to the root of the tangent line of $f(x)$ at $x=x_k$. Note that this is best implemented using a while loop. \n",
    "\n",
    "**Stopping criteria**: Your stopping criteria should be something like $\\texttt{abs}(f(x_n))<\\texttt{tol}$ and/or $\\texttt{abs}(x_n-x_{n+1})<\\texttt{tol}$. In addition, it is sometimes wise to add another stopping criteria in case the algorithm $\\it does~not$ converge, for example \n",
    "\n",
    "    k=1\n",
    "    while <<stopping_criteria>> and k<100:\n",
    "        <<Newton iteration>>\n",
    "        k = k+1\n",
    "        \n",
    "this will stop the loop if it hasn't converged in 100 iterations.\n",
    "\n"
   ]
  },
  {
   "cell_type": "markdown",
   "metadata": {
    "deletable": false,
    "editable": false,
    "run_control": {
     "frozen": true
    }
   },
   "source": [
    "## a) "
   ]
  },
  {
   "cell_type": "markdown",
   "metadata": {
    "deletable": false,
    "editable": false,
    "run_control": {
     "frozen": true
    }
   },
   "source": [
    "Use Newton's method to calculate the roots of the test function $f(x)=\\cos(x)$, which has known roots at $x = \\frac{n \\pi}{2}$, for some integer $m$. \n",
    "\n",
    "Use a tolerance of $\\texttt{tol} = 10^{-10}$, and an initial guess of $x_0 = 0.5$.\n",
    "\n",
    "Your algorithm should converge to the root $x = \\frac{\\pi}{2}$. "
   ]
  },
  {
   "cell_type": "code",
   "execution_count": 26,
   "metadata": {},
   "outputs": [
    {
     "name": "stdout",
     "output_type": "stream",
     "text": [
      "Your root is 1.5707963267948966 and you used 6 iterations with tolerance 1e-10\n"
     ]
    }
   ],
   "source": [
    "import numpy as np\n",
    "x_k = float(input('Initial guess'))\n",
    "tol = 1e-10\n",
    "f_x = np.cos(x_k)\n",
    "k = 1\n",
    "while abs(f_x) > tol and k < 100:\n",
    "    f_x = np.cos(x_k)\n",
    "    dx_f_x = -np.sin(x_k)\n",
    "    x_k = x_k - f_x/dx_f_x\n",
    "    f_x = np.cos(x_k)\n",
    "    k = k + 1\n",
    "print(f'Your root is {x_k} and you used {k} iterations with tolerance {tol}')\n",
    "\n",
    "\n"
   ]
  },
  {
   "cell_type": "markdown",
   "metadata": {},
   "source": [
    "### i) ###\n",
    "For the stopping criteria $\\texttt{abs}(f(x_n))<\\texttt{tol}$, how many iterations does it take for Newton's method to converge to the root? \n",
    "\n"
   ]
  },
  {
   "cell_type": "markdown",
   "metadata": {},
   "source": [
    "**Answer:** The method used 6 iterations to converge"
   ]
  },
  {
   "cell_type": "markdown",
   "metadata": {
    "deletable": false,
    "editable": false,
    "run_control": {
     "frozen": true
    }
   },
   "source": [
    "### ii) ### \n",
    "What happens when you use the initial guess of $x_0 = 0$? Can you explain your observation? (Note: if you have written your code correctly, something $\\it should$ go wrong.)"
   ]
  },
  {
   "cell_type": "markdown",
   "metadata": {},
   "source": [
    "**Answer:** The problem is that sin(0) = 0, and then the codes divides by zero which is impossible"
   ]
  },
  {
   "cell_type": "markdown",
   "metadata": {
    "deletable": false,
    "editable": false,
    "run_control": {
     "frozen": true
    }
   },
   "source": [
    "### iii)"
   ]
  },
  {
   "cell_type": "markdown",
   "metadata": {
    "deletable": false,
    "editable": false,
    "run_control": {
     "frozen": true
    }
   },
   "source": [
    "What happens when you use a tolerance of $\\texttt{tol} = 10^{-18}$ and $x_0=0.5$? Does the algorithm converge? Can you explain your observation?"
   ]
  },
  {
   "cell_type": "markdown",
   "metadata": {},
   "source": [
    "**Answer:** It does not converge anymore, because the tol is too precices. This can be fix by setting a limit like 100 iterations"
   ]
  },
  {
   "cell_type": "markdown",
   "metadata": {},
   "source": [
    "## b)"
   ]
  },
  {
   "cell_type": "markdown",
   "metadata": {
    "deletable": false,
    "editable": false,
    "run_control": {
     "frozen": true
    }
   },
   "source": [
    "Now we will try and find a solution to the following function $$x{{\\rm e}^{- \\left( \\sin \\left( x/2 \\right)  \\right) ^{2}}}=3/2. $$ To do this we will look for a root of the function $$ f(x) = x{{\\rm e}^{- \\left( \\sin \\left( x/2 \\right)  \\right) ^{2}}}-3/2.$$\n",
    "which has the derivative $$f'(x) = {{\\rm e}^{- \\left( \\sin \\left( x/2 \\right)  \\right) ^{2}}}-x\\sin\n",
    " \\left( x/2 \\right) \\cos \\left( x/2 \\right) {{\\rm e}^{- \\left( \\sin\n",
    " \\left( x/2 \\right)  \\right) ^{2}}}.$$\n",
    " The values of $f(x)$ and $f'(x)$ for $x = 2$ have been written in Python for you below so you don't make a mistake copying the formula into you code."
   ]
  },
  {
   "cell_type": "code",
   "execution_count": 32,
   "metadata": {
    "deletable": false,
    "editable": false,
    "run_control": {
     "frozen": true
    }
   },
   "outputs": [
    {
     "name": "stdout",
     "output_type": "stream",
     "text": [
      "The value of the derivative at x = 2 is f'(2) = 0.04467938942574401\n"
     ]
    }
   ],
   "source": [
    "import math \n",
    "x = 2\n",
    "f = x*math.exp(-math.sin((1/2)*x)**2)-3/2\n",
    "dfdx = math.exp(-math.sin((1/2)*x)**2)-x*math.sin((1/2)*x)*math.cos((1/2)*x)*math.exp(-math.sin((1/2)*x)**2)\n",
    "print(\"The value of the derivative at x = 2 is f'(2) =\", dfdx)"
   ]
  },
  {
   "cell_type": "markdown",
   "metadata": {
    "deletable": false,
    "editable": false,
    "run_control": {
     "frozen": true
    }
   },
   "source": [
    "Notice that the value for the derivative at $x=2$ is very close to zero and is therefore not a good starting point. "
   ]
  },
  {
   "cell_type": "markdown",
   "metadata": {
    "deletable": false,
    "editable": false,
    "run_control": {
     "frozen": true
    }
   },
   "source": [
    "### i) ### \n",
    " There is a root in the interval $[0,10]$. What is the value of this root? Express your answer to 10 decimal places.  \n",
    "\n",
    "**Note:** As suggested above, the Newton method might not converge for certain initial values, therefore you need to test a few initial starting points until the algorithm converges. \n"
   ]
  },
  {
   "cell_type": "code",
   "execution_count": 48,
   "metadata": {},
   "outputs": [
    {
     "name": "stdout",
     "output_type": "stream",
     "text": [
      "k = 1 : x_k = 2.0000000000, f(x_k) = -5.14815e-01\n",
      "k = 2 : x_k = 13.5224357411, f(x_k) = 9.44322e+00\n",
      "k = 3 : x_k = 16.1020920536, f(x_k) = 4.65512e+00\n",
      "k = 4 : x_k = 13.1257704367, f(x_k) = 1.06626e+01\n",
      "k = 5 : x_k = 17.7604941658, f(x_k) = 1.20805e+01\n",
      "k = 6 : x_k = 15.9792653382, f(x_k) = 4.48694e+00\n",
      "k = 7 : x_k = 12.1666853572, f(x_k) = 1.01965e+01\n",
      "k = 8 : x_k = 9.0167721143, f(x_k) = 1.95606e+00\n",
      "k = 9 : x_k = 15.4861932811, f(x_k) = 4.26724e+00\n",
      "k = 10: x_k = 31.7821075513, f(x_k) = 2.92458e+01\n",
      "k = 11: x_k = 38.2283039175, f(x_k) = 3.42012e+01\n",
      "k = 12: x_k = 42.4623136831, f(x_k) = 2.49171e+01\n",
      "k = 13: x_k = 40.6585085083, f(x_k) = 1.35817e+01\n",
      "k = 14: x_k = 54.3031394094, f(x_k) = 2.26006e+01\n",
      "k = 15: x_k = 52.0094971963, f(x_k) = 2.74407e+01\n",
      "k = 16: x_k = 54.0128551022, f(x_k) = 2.02191e+01\n",
      "k = 17: x_k = 50.9426446434, f(x_k) = 4.41214e+01\n",
      "k = 18: x_k = 54.2359567736, f(x_k) = 2.19646e+01\n",
      "k = 19: x_k = 51.8173237080, f(x_k) = 3.02281e+01\n",
      "k = 20: x_k = 53.7996379313, f(x_k) = 1.90590e+01\n",
      "k = 21: x_k = 49.3823512934, f(x_k) = 3.96392e+01\n",
      "k = 22: x_k = 47.0126947616, f(x_k) = 1.58485e+01\n",
      "k = 23: x_k = 73.7148052010, f(x_k) = 4.07672e+01\n",
      "k = 24: x_k = 71.8250816887, f(x_k) = 2.61624e+01\n",
      "k = 25: x_k = 76.6698276912, f(x_k) = 5.23866e+01\n",
      "k = 26: x_k = 78.7616519166, f(x_k) = 2.78320e+01\n",
      "k = 27: x_k = 71.0289014361, f(x_k) = 3.49120e+01\n",
      "k = 28: x_k = 73.1279301464, f(x_k) = 3.06462e+01\n",
      "k = 29: x_k = 70.7220759355, f(x_k) = 4.06250e+01\n",
      "k = 30: x_k = 72.7083343776, f(x_k) = 2.66234e+01\n",
      "k = 31: x_k = 68.6279386521, f(x_k) = 6.32508e+01\n",
      "k = 32: x_k = 64.6986569373, f(x_k) = 3.24161e+01\n",
      "k = 33: x_k = 66.7638624343, f(x_k) = 2.69853e+01\n",
      "k = 34: x_k = 64.2055648648, f(x_k) = 4.14482e+01\n",
      "k = 35: x_k = 66.2383878027, f(x_k) = 2.32966e+01\n",
      "k = 36: x_k = 59.8044457729, f(x_k) = 2.05726e+01\n",
      "k = 37: x_k = 47.1562686498, f(x_k) = 1.58524e+01\n",
      "k = 38: x_k = 22.7248450277, f(x_k) = 8.00774e+00\n",
      "k = 39: x_k = 20.5015037759, f(x_k) = 1.04409e+01\n",
      "k = 40: x_k = 22.4463983033, f(x_k) = 7.18897e+00\n",
      "k = 41: x_k = 19.3170999254, f(x_k) = 1.68078e+01\n",
      "k = 42: x_k = 24.6061185243, f(x_k) = 2.14944e+01\n",
      "k = 43: x_k = 21.4042986771, f(x_k) = 7.06126e+00\n",
      "k = 44: x_k = 24.9880021192, f(x_k) = 2.33577e+01\n",
      "k = 45: x_k = 16.6084125039, f(x_k) = 5.88374e+00\n",
      "k = 46: x_k = 14.8455205854, f(x_k) = 5.00393e+00\n",
      "k = 47: x_k = 17.3086349842, f(x_k) = 9.15619e+00\n",
      "k = 48: x_k = 15.7675455431, f(x_k) = 4.30570e+00\n",
      "k = 49: x_k = 7.8096720553, f(x_k) = 3.34288e+00\n",
      "k = 50: x_k = 9.6679121214, f(x_k) = 2.10932e+00\n",
      "k = 51: x_k = 7.0567042922, f(x_k) = 4.62088e+00\n",
      "k = 52: x_k = 10.6928639901, f(x_k) = 4.08745e+00\n",
      "k = 53: x_k = 9.4112266709, f(x_k) = 1.96236e+00\n",
      "k = 54: x_k = 3.7139475350, f(x_k) = -2.03858e-02\n",
      "k = 55: x_k = 3.7394589802, f(x_k) = 3.09911e-04\n",
      "k = 56: x_k = 3.7390826266, f(x_k) = 6.83147e-08\n",
      "k = 57: x_k = 3.7390825436, f(x_k) = 3.10862e-15\n",
      "k = 58: x_k = 3.7390825436, f(x_k) = 0.00000e+00\n",
      "There is a root value a x = 3.7390825436 and you used 59 iterations with tolerance 1e-15\n"
     ]
    }
   ],
   "source": [
    "import math \n",
    "x = 2\n",
    "f = x*math.exp(-math.sin((1/2)*x)**2)-3/2\n",
    "dfdx = math.exp(-math.sin((1/2)*x)**2)-x*math.sin((1/2)*x)*math.cos((1/2)*x)*math.exp(-math.sin((1/2)*x)**2)\n",
    "k = 1\n",
    "tol = 1e-15\n",
    "\n",
    "while abs(f) > tol and k < 100:\n",
    "    f = x*math.exp(-math.sin((1/2)*x)**2)-3/2\n",
    "    dfdx = math.exp(-math.sin((1/2)*x)**2)-x*math.sin((1/2)*x)*math.cos((1/2)*x)*math.exp(-math.sin((1/2)*x)**2)\n",
    "    print(\"k = %-2d: x_k = %.10f, f(x_k) = %.5e\" % (k,x,f))\n",
    "    x = x - f/dfdx\n",
    "    k = k + 1 \n",
    "\n",
    "print(f'There is a root value a x = {x:.10f} and you used {k} iterations with tolerance {tol}')\n"
   ]
  },
  {
   "cell_type": "markdown",
   "metadata": {
    "deletable": false,
    "editable": false,
    "heading_collapsed": true,
    "run_control": {
     "frozen": true
    }
   },
   "source": [
    "#### **Hint:**"
   ]
  },
  {
   "cell_type": "markdown",
   "metadata": {
    "deletable": false,
    "editable": false,
    "hidden": true,
    "run_control": {
     "frozen": true
    }
   },
   "source": [
    "\n",
    "The below code can be used to print values to many decimal places. To get 10 decimal places of accuracy, you should keep iterating your code until the first 10 decimal places of ${x_n}$ don't change between iterations"
   ]
  },
  {
   "cell_type": "code",
   "execution_count": 40,
   "metadata": {
    "deletable": false,
    "editable": false,
    "hidden": true,
    "run_control": {
     "frozen": true
    }
   },
   "outputs": [
    {
     "name": "stdout",
     "output_type": "stream",
     "text": [
      "n = 1 : x_n = 0.1428571429, f(x_n) = -1.35787e+00\n"
     ]
    }
   ],
   "source": [
    "n = 1\n",
    "x = 1/7\n",
    "f = x*math.exp(-math.sin((1/2)*x)**2)-3/2\n",
    "\n",
    "print(\"n = %-2d: x_n = %.10f, f(x_n) = %.5e\" % (n,x,f)) \n",
    "# this prints the integer n, the float x to 10 decimal places\n",
    "# ... and the float f to 5 decimal places (in exponential format). This \n",
    "# ... is best placed inside your loop to see what is happening at each iteration \n"
   ]
  },
  {
   "cell_type": "markdown",
   "metadata": {
    "deletable": false,
    "editable": false,
    "run_control": {
     "frozen": true
    }
   },
   "source": [
    "### ii) (Optional bonus question for an extra reward*!) ###"
   ]
  },
  {
   "cell_type": "markdown",
   "metadata": {
    "deletable": false,
    "editable": false,
    "run_control": {
     "frozen": true
    }
   },
   "source": [
    "As you may have noticed, Newton's method sometimes doesn't converge unless we are close enough to the solution. One very common method to cirmumvent this issue is to do a few bisection method iterations first, and when you are \"close enough\" to the solution you can bring it home with Newton iterations. \n",
    "\n",
    "Implement a root finding algorithm that:\n",
    "\n",
    "   (1) uses the bisection method until you are within $|f(c)|<\\texttt{tol1}$, then\n",
    "    \n",
    "   (2) uses Newton's method until  $|f(x_n)|<\\texttt{tol2}$, \n",
    "    \n",
    "where you can choose the values of $\\texttt{tol1}$ and $\\texttt{tol2}$ as long as $\\texttt{tol1}>\\texttt{tol2}$."
   ]
  },
  {
   "cell_type": "markdown",
   "metadata": {
    "deletable": false,
    "editable": false,
    "run_control": {
     "frozen": true
    }
   },
   "source": [
    " \\* The reward is the satisfaction of completing the hardest part of the assignment (+ read the assignment approval description for assignment 3)"
   ]
  },
  {
   "cell_type": "code",
   "execution_count": 31,
   "metadata": {},
   "outputs": [
    {
     "name": "stdout",
     "output_type": "stream",
     "text": [
      "Grensene må ha forskjellige fortegn\n",
      "Etter bisection er x = 100\n"
     ]
    }
   ],
   "source": [
    "import numpy as np\n",
    "a = -5\n",
    "b = 10\n",
    "f_a = (a-1)*(a-3)\n",
    "f_b = (b-1)*(b-3)\n",
    "interval = (b-a)/2\n",
    "tol1 = 0.001\n",
    "\n",
    "if f_a*f_b>0:\n",
    "    print('Grensene må ha forskjellige fortegn')\n",
    "    c = 100\n",
    "else:\n",
    "    while interval > tol1:\n",
    "        c = (a+b)/2\n",
    "        f_c = (c-1)*(c-3)\n",
    "        if f_c < 0:\n",
    "            a = c\n",
    "            f_a = (a-1)*(a-3)\n",
    "        if f_c > 0:\n",
    "            b = c\n",
    "            f_b = (b-1)*(b-3)\n",
    "        interval = (b-a)/2\n",
    "        print(interval)\n",
    "\n",
    "print(f'Etter bisection er x = {c}')\n",
    "x_k = c\n",
    "\n",
    "\n",
    "#x_k = float(input('Initial guess'))\n",
    "\n",
    "\n",
    "# tol2 = 1e-10\n",
    "# f_x = np.cos(x_k)\n",
    "# k = 1\n",
    "# while abs(f_x) > tol2 and k < 100:\n",
    "#     f_x = np.cos(x_k)\n",
    "#     dx_f_x = -np.sin(x_k)\n",
    "#     x_k = x_k - f_x/dx_f_x\n",
    "#     f_x = np.cos(x_k)\n",
    "#     k = k + 1\n",
    "# print(f'Your root is {x_k} and you used {k} iterations with tolerance {tol2}')\n",
    "\n",
    "\n",
    "\n"
   ]
  }
 ],
 "metadata": {
  "kernelspec": {
   "display_name": "Python 3",
   "language": "python",
   "name": "python3"
  },
  "language_info": {
   "codemirror_mode": {
    "name": "ipython",
    "version": 3
   },
   "file_extension": ".py",
   "mimetype": "text/x-python",
   "name": "python",
   "nbconvert_exporter": "python",
   "pygments_lexer": "ipython3",
   "version": "3.12.6"
  }
 },
 "nbformat": 4,
 "nbformat_minor": 2
}
