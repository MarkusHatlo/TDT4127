{
 "cells": [
  {
   "cell_type": "markdown",
   "metadata": {
    "deletable": false,
    "editable": false,
    "run_control": {
     "frozen": true
    }
   },
   "source": [
    "[Back to Assignment 6](_Oving6.ipynb)\n",
    "# Newton's method and systems of ODEs \n",
    "\n",
    "In this assignment you will use solve a system of ODE's using the backward Euler method and Newton iterations. We have studied Newton iterations for scalar equations, but in this assignment we will implement it for a vector-valued algebraic equation. \n",
    "\n",
    "Here we will be using $\\texttt{np.array()}$, which is how you write a vector or matrix in Python and $\\texttt{np.zeros((n,m))}$, which creates an $n\\times m$ matrix of zeros. Arrays are treated just like matrices and vectors are in math. You can multiply them by scalar and add them in the usual way. But if you want to more complicated operations like take a dot or cross product or transpose a vector then you have to use more functions, however these are not needed in this assignment and you only need scalar multiplication and addition. \n",
    "\n",
    "## 0. (Warm-up questions with solutions)"
   ]
  },
  {
   "cell_type": "markdown",
   "metadata": {
    "deletable": false,
    "editable": false,
    "run_control": {
     "frozen": true
    }
   },
   "source": [
    "### a) \n",
    "Create matrices $A = \\left(\\begin{array}{cc}1&2\\\\3&1\\\\ \\end{array}\\right)$  and $B = \\left(\\begin{array}{cc}2&1\\\\1&4\\\\ \\end{array}\\right)$. "
   ]
  },
  {
   "cell_type": "markdown",
   "metadata": {
    "deletable": false,
    "editable": false,
    "run_control": {
     "frozen": true
    }
   },
   "source": [
    "### b) \n",
    "Now create a new matrix $C = 10A + B$."
   ]
  },
  {
   "cell_type": "markdown",
   "metadata": {
    "deletable": false,
    "editable": false,
    "run_control": {
     "frozen": true
    }
   },
   "source": [
    "### c) \n",
    "Create the (column) vectors $\\mathbf{u}$ and $\\mathbf{v}$,  where $\\mathbf{u}$ and $\\mathbf{v}$ are the columns of $C$. That is $C = (\\mathbf{u},\\mathbf{v})$"
   ]
  },
  {
   "cell_type": "markdown",
   "metadata": {
    "deletable": false,
    "editable": false,
    "run_control": {
     "frozen": true
    }
   },
   "source": [
    "### d) \n",
    "Now replace the last row of $B$ with $\\mathbf{v}^T$"
   ]
  },
  {
   "cell_type": "markdown",
   "metadata": {
    "deletable": false,
    "editable": false,
    "run_control": {
     "frozen": true
    }
   },
   "source": [
    "### **Solutions to warmup questions:**"
   ]
  },
  {
   "cell_type": "code",
   "execution_count": 40,
   "metadata": {},
   "outputs": [
    {
     "name": "stdout",
     "output_type": "stream",
     "text": [
      "[[1 2]\n",
      " [3 1]]\n",
      "\n",
      "[[2 1]\n",
      " [1 4]]\n",
      "\n",
      "[[12 21]\n",
      " [31 14]]\n",
      "\n",
      "[[12]\n",
      " [31]]\n",
      "\n",
      "[[21]\n",
      " [14]]\n",
      "\n",
      "[[ 2  1]\n",
      " [21 14]]\n"
     ]
    }
   ],
   "source": [
    "import numpy as np\n",
    "\n",
    "#a)\n",
    "A = np.array([[1,2],[3,1]])\n",
    "B = np.array([[2,1],[1,4]])\n",
    "print(A)\n",
    "print()\n",
    "print(B)\n",
    "print()\n",
    "\n",
    "#b)\n",
    "C = 10*A + B\n",
    "print(C)\n",
    "print()\n",
    "\n",
    "#c)\n",
    "\n",
    "u = np.array([[C[0,0]],[C[1,0]]])\n",
    "print(u)\n",
    "print()\n",
    "v = np.array([[C[0,1]],[C[1,1]]])\n",
    "print(v)\n",
    "print()\n",
    "\n",
    "#d) \n",
    "B[1,:] = np.transpose(v)\n",
    "print(B)\n",
    "\n",
    "#Solution\n",
    "\n",
    "# a)\n",
    "A = np.array([[1,2],[3,1]]) # note that matrices use nested brackets: [[],[]], whereas a vector only uses a single pair of brackets: []\n",
    "B = np.array([[2,1],[1,4]])\n",
    "\n",
    "# b)\n",
    "C = 10*A+B \n",
    "\n",
    "# c)\n",
    "u = C[:,0] # note that the first element is indexed by a 0. The colon is used to take all the elements\n",
    "v = C[:,1] # this reads: Take all the rows of the second column (indexed by 1) and call it v\n",
    "\n",
    "# d)\n",
    "B[-1,:] = v  # the -1 is used to take the LAST row (-2 would take the second last row etc.)\n",
    "\n"
   ]
  },
  {
   "cell_type": "markdown",
   "metadata": {
    "deletable": false,
    "editable": false,
    "run_control": {
     "frozen": true
    }
   },
   "source": [
    "## 1. \n",
    "We will solve the following set of ODE's \n",
    "\n",
    "\\begin{align}\n",
    "\\dot{x}_0 =&\\, -4x_1x_0^2\\\\\n",
    "\\dot{x}_1 =&\\, 2x_0^2-\\frac{x_1}{10}\\\\\n",
    "\\end{align}\n",
    "The following code solves the above equations using the Forward Euler method. We will modify this code to use the backward Euler method with Newton iterations. Make sure you understand each line of the code before starting the questions. "
   ]
  },
  {
   "cell_type": "code",
   "execution_count": 2,
   "metadata": {},
   "outputs": [
    {
     "data": {
      "text/plain": [
       "[<matplotlib.lines.Line2D at 0x19d06756ed0>,\n",
       " <matplotlib.lines.Line2D at 0x19d06756f60>]"
      ]
     },
     "execution_count": 2,
     "metadata": {},
     "output_type": "execute_result"
    },
    {
     "data": {
      "image/png": "[encoded data removed]",
      "text/plain": [
       "<Figure size 640x480 with 1 Axes>"
      ]
     },
     "metadata": {},
     "output_type": "display_data"
    }
   ],
   "source": [
    "import numpy as np                           # Import numpy for arrays\n",
    "import matplotlib.pyplot as plt              # Import plotting library\n",
    "\n",
    "dt = 0.1                                     # Time-step\n",
    "T  = 10                                      # Total integration time \n",
    "nt = round(T/dt)                             # Total number of time-steps\n",
    "x  = np.zeros((2,nt+1))                      # Make a matrix (array) with 2 rows and nt+1 columns called x\n",
    "x[:,0]  = np.array([1,0.2])                  # Set the first column of x equal to [1,0.2] (the rest are still zero) this column is x_0 or the \"intitial conditions\" \n",
    "\n",
    "def f(x):                                    # Define a vector-valued function f that takes a vector x and returns a vector f(x)\n",
    "    return np.array([-4*x[1]*x[0]**2,2*x[0]**2-0.1*x[1]])\n",
    "\n",
    "# You will add functions here for the g(x) and the Jacobian of f and g\n",
    "\n",
    "for it in range(0,nt):\n",
    "    x[:,it+1] = x[:,it] + dt*f(x[:,it])      # Forward Euler (you will modify this line to implement the backward Euler method with Newton iterations)\n",
    "    \n",
    "t = np.array(range(0,nt+1))*dt               # The discrete times that the solution is evaluated on (i.e., the horizontal axis of the following plot)\n",
    "plt.plot(t,x[0,:],'ro-',t,x[1,:],'bx-')      # Plot both solution components, now using arrays"
   ]
  },
  {
   "cell_type": "markdown",
   "metadata": {
    "deletable": false,
    "editable": false,
    "run_control": {
     "frozen": true
    }
   },
   "source": [
    "### a) \n",
    "\n",
    "To implement the Backward Euler method we will need to implement Newton's method for systems of algebraic equations:\n",
    "\n",
    "$$\\mathbf{g}(\\mathbf{x})=0.$$\n",
    "\n",
    "To solve this using Newton's method, we use the \\(n\\)-dimensional Newton method:\n",
    "\n",
    "$$\\mathbf{x}_{k+1}  = \\mathbf{x}_k - \\mathbf{g}'(\\mathbf{x}_k)^{-1}\\mathbf{g}(\\mathbf{x}_k),$$\n",
    "\n",
    "where $(\\mathbf{x})$ and $(\\mathbf{g}(\\mathbf{x}))$ are vectors and $(\\mathbf{g}'(\\mathbf{x}_k)^{-1})$ is the Jacobian matrix inverse of $(\\mathbf{g}(\\mathbf{x}_k))$. \n",
    "\n",
    "Write a function that takes an initial guess $(\\mathbf{x}_0)$, a function $(\\mathbf{g})$, and its Jacobian $(\\mathbf{g}')$, and returns the root of $(\\mathbf{g}(\\mathbf{x}) = \\mathbf{0})$ using Newton's method in multiple dimensions.\n",
    "\n",
    "To make sure that your code works, you could test it on a very simple function, for example, $(\\mathbf{g}(\\mathbf{x}) = \\left(\\begin{array}{c}(x_0-1)^2\\\\(x_1-2)^2\\\\ \\end{array}\\right))$, which has a root at $(\\left(\\begin{array}{c}1\\\\2\\\\ \\end{array}\\right)).$\n"
   ]
  },
  {
   "cell_type": "code",
   "execution_count": 17,
   "metadata": {},
   "outputs": [
    {
     "name": "stdout",
     "output_type": "stream",
     "text": [
      "Root found: [0.99996948 1.99993896]\n"
     ]
    }
   ],
   "source": [
    "import numpy as np\n",
    "\n",
    "def newtons_method(g, jacobian, x0, tol=1e-8, max_iter=100):\n",
    "    x = x0\n",
    "    for i in range(max_iter):\n",
    "        g_val = g(x)\n",
    "        if np.linalg.norm(g_val) < tol:\n",
    "            return x  \n",
    "        \n",
    "        jacobian_val = jacobian(x)\n",
    "        \n",
    "        delta_x = np.linalg.solve(jacobian_val, g_val)\n",
    "        \n",
    "\n",
    "        x = x - delta_x\n",
    "        \n",
    "        if np.linalg.norm(delta_x) < tol:\n",
    "            break\n",
    "    \n",
    "    return x\n",
    "\n",
    "\n",
    "def g(x):\n",
    "    return np.array([(x[0] - 1)**2, (x[1] - 2)**2])\n",
    "\n",
    "def jacobian(x):\n",
    "    return np.array([[2 * (x[0] - 1), 0],\n",
    "                     [0, 2 * (x[1] - 2)]])\n",
    "\n",
    "x0 = np.array([0.0, 0.0])\n",
    "\n",
    "root = newtons_method(g, jacobian, x0)\n",
    "\n",
    "print(\"Root found:\", root)"
   ]
  },
  {
   "cell_type": "markdown",
   "metadata": {
    "deletable": false,
    "editable": false,
    "run_control": {
     "frozen": true
    }
   },
   "source": [
    "### b)\n",
    "Now we will modify the above code to use the backward Euler method with Newton iterations. We will apply Newton iterations on the backward Euler method, which looks like\n",
    "\n",
    "$$\\mathbf{x}_{n+1} = \\mathbf{x}_n + \\Delta t \\, \\mathbf{f}(\\mathbf{x}_{n+1})$$\n",
    "which means that you should apply your Newton iterations to the function \n",
    "$$\\mathbf{g}(\\mathbf{x}_n,\\mathbf{x}_{n+1}) = \\mathbf{x}_n + \\Delta t \\, \\mathbf{f}(\\mathbf{x}_{n+1}) - \\mathbf{x}_{n+1} = \\mathbf{0},$$\n",
    "where $\\mathbf{x}_n$ is already known. The Jacobian matrix (the derivative is taken with respect to $\\mathbf{x}_{n+1}$) is given by \n",
    "$$\\mathbf{g}'(\\mathbf{x}_{n+1}) = \\Delta t \\, \\mathbf{f}'(\\mathbf{x}_{n+1}) - \\mathbf{I}$$\n",
    "where $\\mathbf{I}$ is the identity matrix.\n",
    "\n",
    "Note: the function $\\mathbf{g}$ requires two input variables $\\mathbf{x}_n$ and $\\mathbf{x}_{n+1}$. Make sure you are giving it the correct values and that it is being passed into the Newton iteration correctly! "
   ]
  },
  {
   "cell_type": "code",
   "execution_count": 18,
   "metadata": {},
   "outputs": [
    {
     "data": {
      "image/png": "[encoded data removed]",
      "text/plain": [
       "<Figure size 640x480 with 1 Axes>"
      ]
     },
     "metadata": {},
     "output_type": "display_data"
    }
   ],
   "source": [
    "import numpy as np\n",
    "import matplotlib.pyplot as plt\n",
    "\n",
    "# Time-step and simulation parameters\n",
    "dt = 0.1  # Time-step\n",
    "T = 10  # Total integration time\n",
    "nt = round(T / dt)  # Total number of time-steps\n",
    "\n",
    "# Array to store the solution\n",
    "x = np.zeros((2, nt + 1))\n",
    "x[:, 0] = np.array([1, 0.2])  # Initial condition [1, 0.2]\n",
    "\n",
    "# Function f(x) as given in the problem\n",
    "def f(x):\n",
    "    return np.array([-4 * x[1] * x[0] ** 2, 2 * x[0] ** 2 - 0.1 * x[1]])\n",
    "\n",
    "# Jacobian of f(x)\n",
    "def f_jacobian(x):\n",
    "    return np.array([[-8 * x[1] * x[0], -4 * x[0] ** 2],\n",
    "                     [4 * x[0], -0.1]])\n",
    "\n",
    "# g(x_n, x_n+1) for the backward Euler method\n",
    "def g(xn, xn1):\n",
    "    return xn + dt * f(xn1) - xn1\n",
    "\n",
    "# Jacobian of g(x_n+1) with respect to x_n+1\n",
    "def g_jacobian(xn1):\n",
    "    return dt * f_jacobian(xn1) - np.eye(2)\n",
    "\n",
    "# Time-stepping loop using the backward Euler method\n",
    "for it in range(0, nt):\n",
    "    # Define the function g and its Jacobian for the current time step\n",
    "    g_fun = lambda xn1: g(x[:, it], xn1)\n",
    "    jacobian_fun = lambda xn1: g_jacobian(xn1)\n",
    "    \n",
    "    # Initial guess for Newton's method is the previous value (forward Euler)\n",
    "    x_guess = x[:, it] + dt * f(x[:, it])  # A guess using forward Euler\n",
    "    x[:, it + 1] = newtons_method(g_fun, jacobian_fun, x_guess)  # Solve using Newton's method\n",
    "\n",
    "# Plotting the solution\n",
    "t = np.array(range(0, nt + 1)) * dt  # Discrete times for plotting\n",
    "plt.plot(t, x[0, :], 'ro-', label='x1 (first component)')\n",
    "plt.plot(t, x[1, :], 'bx-', label='x2 (second component)')\n",
    "plt.xlabel('Time')\n",
    "plt.ylabel('Solution')\n",
    "plt.legend()\n",
    "plt.show()\n",
    "\n"
   ]
  }
 ],
 "metadata": {
  "kernelspec": {
   "display_name": "Python 3",
   "language": "python",
   "name": "python3"
  },
  "language_info": {
   "codemirror_mode": {
    "name": "ipython",
    "version": 3
   },
   "file_extension": ".py",
   "mimetype": "text/x-python",
   "name": "python",
   "nbconvert_exporter": "python",
   "pygments_lexer": "ipython3",
   "version": "3.12.7"
  }
 },
 "nbformat": 4,
 "nbformat_minor": 2
}
