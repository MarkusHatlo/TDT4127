{
 "cells": [
  {
   "cell_type": "markdown",
   "metadata": {
    "deletable": false,
    "editable": false,
    "run_control": {
     "frozen": true
    }
   },
   "source": [
    "\n",
    "# Baking course\n",
    "\n",
    "\n",
    "**Learning goals:**\n",
    "- Pretty-printing text\n",
    "- Performing simple computations\n",
    "\n",
    "**Starting Out with Python:**\n",
    "\n",
    "- Chapter. 2.3\n",
    "- Chapter. 2.8\n",
    "- Chapter. 8\n",
    "\n",
    "In this assignment you will compute the amount of ingredients required to make cookies and print the result prettily to the screen.\n",
    "\n",
    "You are making cookies, and you have a recipe which yields 48 cookies. The recipe requires the following ingredients:\n",
    "\n",
    "- 400g sugar \n",
    "- 320g butter\n",
    "- 500g chocolate\n",
    "- 2 eggs \n",
    "- 460g flour "
   ]
  },
  {
   "cell_type": "markdown",
   "metadata": {
    "deletable": false,
    "editable": false,
    "run_control": {
     "frozen": true
    }
   },
   "source": [
    "## a)"
   ]
  },
  {
   "cell_type": "markdown",
   "metadata": {
    "deletable": false,
    "editable": false,
    "run_control": {
     "frozen": true
    }
   },
   "source": [
    "Ask the user about how many cookies they want to make, and output how many ingredients are required to make that amount of cookies\n",
    "\n",
    "Example run:\n",
    "\n",
    "  \n",
    "```python\n",
    "How many cookies do you wish to make? 24\n",
    "Number of cookies: 24 \n",
    "Sugar (g): 200.0\n",
    "Butter (g): 160.0\n",
    "Choocolate (g): 250.0\n",
    "Egg: 1.0\n",
    "Flour (g): 230.0\n",
    "```\n",
    "    \n",
    "***Write the code in the block below***"
   ]
  },
  {
   "cell_type": "code",
   "execution_count": null,
   "metadata": {},
   "outputs": [],
   "source": []
  },
  {
   "cell_type": "markdown",
   "metadata": {
    "deletable": false,
    "editable": false,
    "heading_collapsed": true,
    "run_control": {
     "frozen": true
    }
   },
   "source": [
    "#### Hint for task a: Escape Character"
   ]
  },
  {
   "cell_type": "markdown",
   "metadata": {
    "deletable": false,
    "editable": false,
    "hidden": true,
    "run_control": {
     "frozen": true
    }
   },
   "source": [
    "`\\n` is useful for forcing a new line! Example: `print(“hei\\npå\\ndeg”)` outputs\n",
    "\n",
    "**print**\n",
    "  \n",
    "```\n",
    "hei  \n",
    "på  \n",
    "deg\n",
    "```"
   ]
  },
  {
   "cell_type": "markdown",
   "metadata": {
    "deletable": false,
    "editable": false,
    "run_control": {
     "frozen": true
    }
   },
   "source": [
    "## b)"
   ]
  },
  {
   "cell_type": "markdown",
   "metadata": {
    "deletable": false,
    "editable": false,
    "run_control": {
     "frozen": true
    }
   },
   "source": [
    "Ask the user about how many cookies they want to make three times and print the ingredients in an elegant way (read: columns aligned correctly using spaces). You only need to print the number of cookies, as well as how much chocolate and sugar is needed. See the following example:\n",
    " \n",
    "```python\n",
    "How many cookies do you want to make? 24\n",
    "How many cookies do you want to make now?\n",
    "Lastly, how mny cookies do you want to make now? 72\n",
    " \n",
    "Number of cookies:         sugar (g)       chocolate (g)\n",
    "24                         200.0           250.0\n",
    "48                         400.0           500.0\n",
    "72                         600.0           750.0\n",
    "```\n",
    "\n",
    "`rjust()` og `ljust()` are useful functions here, but to use them you need to convert the number of cookies to a string using str().\n",
    "\n",
    "***Write the code in the block below.***"
   ]
  },
  {
   "cell_type": "code",
   "execution_count": null,
   "metadata": {},
   "outputs": [],
   "source": []
  },
  {
   "cell_type": "markdown",
   "metadata": {
    "deletable": false,
    "editable": false,
    "heading_collapsed": true,
    "run_control": {
     "frozen": true
    }
   },
   "source": [
    "#### `ljust()` and `rjust()`"
   ]
  },
  {
   "cell_type": "markdown",
   "metadata": {
    "deletable": false,
    "editable": false,
    "hidden": true,
    "run_control": {
     "frozen": true
    }
   },
   "source": [
    "`streng.ljust(width)` tring.ljust(width) returns the string left justified in a string of length width. s strengen \"left justified\" i en streng av lengde width. streng.rjust(width) does the same, except the string is \"right justified\". For example `print('hei'.rjust(15))` outputs:\n",
    "\n",
    "  \n",
    "```python\n",
    "           hei      #text is printed after 12 white spaces as the string itself is 3 characters long.\n",
    "```\n",
    "    \n",
    "Read more about `rjust()` og `ljust()` [here](https://docs.python.org/2/library/stdtypes.html?highlight=rjust#str.rjust). "
   ]
  },
  {
   "cell_type": "code",
   "execution_count": null,
   "metadata": {
    "hidden": true
   },
   "outputs": [],
   "source": []
  }
 ],
 "metadata": {
  "kernelspec": {
   "display_name": "Python 3",
   "language": "python",
   "name": "python3"
  },
  "language_info": {
   "codemirror_mode": {
    "name": "ipython",
    "version": 3
   },
   "file_extension": ".py",
   "mimetype": "text/x-python",
   "name": "python",
   "nbconvert_exporter": "python",
   "pygments_lexer": "ipython3",
   "version": "3.7.1"
  },
  "toc": {
   "base_numbering": 1,
   "nav_menu": {},
   "number_sections": false,
   "sideBar": true,
   "skip_h1_title": false,
   "title_cell": "Table of Contents",
   "title_sidebar": "Contents",
   "toc_cell": false,
   "toc_position": {},
   "toc_section_display": true,
   "toc_window_display": false
  }
 },
 "nbformat": 4,
 "nbformat_minor": 2
}
