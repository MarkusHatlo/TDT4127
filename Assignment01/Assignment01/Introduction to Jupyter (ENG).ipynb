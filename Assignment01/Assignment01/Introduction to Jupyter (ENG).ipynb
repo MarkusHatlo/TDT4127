{
 "cells": [
  {
   "cell_type": "markdown",
   "metadata": {
    "deletable": false,
    "editable": false,
    "run_control": {
     "frozen": true
    }
   },
   "source": [
    "# Introduction to Jupyter\n",
    "\n",
    "Hi, and welcome to Jupyter, another way to write code! Jupyter is a system that allows you to create documents that contain both text and code at once. The nice thing here is that you can run the code in the document and see the result immediately. You can try this out now.\n",
    "\n",
    "**Task a)** Click the code block below and press `ctrl + enter` on your keyboard to run the code. (It is also possible to select the code block and click `run`in the menu at the top of the page)"
   ]
  },
  {
   "cell_type": "code",
   "execution_count": null,
   "metadata": {},
   "outputs": [],
   "source": [
    "print(\"Welcome to Jupyter\")"
   ]
  },
  {
   "cell_type": "markdown",
   "metadata": {
    "deletable": false,
    "editable": false,
    "run_control": {
     "frozen": true
    }
   },
   "source": [
    "The results of the code are shown just below the code block. This is highly practical and you can run the code as many times you want! If you use the shortcut `ctrl + enter` in the code block above one more time, you will see that the number to the left of the code block will increase. This number is only used as a reference, and you should not spend much time thinking about it.\n",
    "\n",
    "All code blocks in a document can be changed, and this is strongly encouraged! There is a lot of good learning in changing code, thinking about what is going to happen and checking if this is actually happening. For example, try running the program below with `ctrl + enter`, make a few changes and check if your new version does what you intended."
   ]
  },
  {
   "cell_type": "markdown",
   "metadata": {
    "deletable": false,
    "editable": false
   },
   "source": [
    "**Task b)** Change the first line of the code below to `print(\"This is my first jupyter notebook\")`"
   ]
  },
  {
   "cell_type": "code",
   "execution_count": null,
   "metadata": {},
   "outputs": [],
   "source": [
    "print(\"This is a jupyter-program\") #change this line\n",
    "print(\"Now the program will ask a question\")\n",
    "name = input(\"What is your name\")\n",
    "print(\"Hi\", name)\n",
    "\n",
    "age = int(input(\"How old are you? \")) # Only write one number\n",
    "print(\"Then you will be\", age + 5, \"years old in five years\")"
   ]
  },
  {
   "cell_type": "markdown",
   "metadata": {
    "deletable": false,
    "editable": false,
    "run_control": {
     "frozen": true
    }
   },
   "source": [
    "# Variables between code blocks"
   ]
  },
  {
   "cell_type": "markdown",
   "metadata": {
    "deletable": false,
    "editable": false,
    "run_control": {
     "frozen": true
    }
   },
   "source": [
    "What is worth noting is that data may exist between the code blocks in a Jupyter Notebook. Let's look at an example. Press ctrl + enter in the code block below so that it runs."
   ]
  },
  {
   "cell_type": "code",
   "execution_count": null,
   "metadata": {},
   "outputs": [],
   "source": [
    "message = \"Wow! This was cool!\""
   ]
  },
  {
   "cell_type": "markdown",
   "metadata": {
    "deletable": false,
    "editable": false,
    "run_control": {
     "frozen": true
    }
   },
   "source": [
    "Run the code block below:"
   ]
  },
  {
   "cell_type": "code",
   "execution_count": null,
   "metadata": {},
   "outputs": [],
   "source": [
    "print(message)"
   ]
  },
  {
   "cell_type": "markdown",
   "metadata": {
    "deletable": false,
    "editable": false,
    "run_control": {
     "frozen": true
    }
   },
   "source": [
    "As you can see, we print out the value of `message` even though` message` is not defined in the lower code block. This can be very convenient, but can sometimes be confusing. Try changing the value of `message` (\" Wow! This was cool! \") In the first block of code, and then pressing` ctrl + enter` in the second block.\n",
    "\n",
    "As you can see, `message` has not been updated. This is because **we have to run the code block with `message =` in order for `message` to be updated**.\n",
    "\n",
    "Now try to run the code block with `message =` again and then run the block with `print` again. Then the correct message should be printed.\n",
    "\n",
    "**Task c)** Change message to `` Wow, Jupyter is cool! `` And print it in the block below.\n",
    "\n",
    "This applies not only to *variables*, but also to *functions*, which you will learn to use eventually. If you write a function and want to use it in a different code block, you must run the code block every time the function changes just as with variables.\n"
   ]
  },
  {
   "cell_type": "markdown",
   "metadata": {
    "deletable": false,
    "editable": false,
    "run_control": {
     "frozen": true
    }
   },
   "source": [
    "# Restarting if Problems Arise"
   ]
  },
  {
   "cell_type": "markdown",
   "metadata": {
    "deletable": false,
    "editable": false,
    "run_control": {
     "frozen": true
    }
   },
   "source": [
    "If you want to remove all output from the document and *restart*, press `Kernel -> Restart and clear output` in the menu at the top. A box will come up with a scary red button, but this will work just fine. Restarting can also be useful if the document hangs up. We shall see an example of this now.\n",
    "\n",
    "Run the code block twice without entering anything in the input field that pops up (you have to press the block again to run the second time)."
   ]
  },
  {
   "cell_type": "code",
   "execution_count": null,
   "metadata": {},
   "outputs": [],
   "source": [
    "name = input(\"What is your name?\")\n",
    "print(\"Hi,\", name)"
   ]
  },
  {
   "cell_type": "markdown",
   "metadata": {
    "deletable": false,
    "editable": false
   },
   "source": [
    "This was very unfortunate. Now nothing happens and we can't run other code blocks in the document either :(\n",
    "\n",
    "When a code block is waiting for input you cannot run other code blocks, so if you try to run other code blocks these will be put on hold.\n",
    "\n",
    "Now we see that it says `In [*]` for several of our blocks, this means they wait for other blocks before they even run, in our case we ran the input block again, without giving anything in to the previous run of the block. The program is still waiting for input to the previous block run, even if the field is gone, which is not entirely optimal! If you don't quite understand what's going on here, it's not dangerous. To get out of this we can restart with `Kernel -> Restart and clear output` in the top menu. **Note: This does not change the code you wrote yourself.**\n",
    "\n",
    "**Task d)** Restart the notebook with the command described above."
   ]
  },
  {
   "cell_type": "markdown",
   "metadata": {
    "deletable": false,
    "editable": false,
    "run_control": {
     "frozen": true
    }
   },
   "source": [
    "# Altering text"
   ]
  },
  {
   "cell_type": "markdown",
   "metadata": {
    "deletable": false,
    "editable": false,
    "run_control": {
     "frozen": true
    }
   },
   "source": [
    "It is also possible to change the text of a document by double-clicking on a text box, but this is something you rarely need to do. To make the text \"normal\" again after you have changed, press `ctrl + enter` here as well.\n",
    "\n",
    "Jupyter uses markdown for text. This is not part of the curiculum, but here is a guide if you want to take a look: [link](https://github.com/adam-p/markdown-here/wiki/Markdown-Cheatsheet?fbclid=IwAR2PRFaYr3YAPnKBzNRpgaumRufU4WHbT6Xd-0v9EsJwxtgqxOyzLluvPOA#tables). There are possibilities for using LaTeX in Jupyter text boxes, but this is not part of the curiculum either.\n",
    "\n",
    "If we want a textual answer(to a task), you will see something like the example below. Here, you can remove whatever is inside the \"crocodile signs\".\n",
    "\n",
    "\n",
    "**Task e)** Change the text box below to `Python is fun!`. *PS: in a textbox you don't need to write python-code*"
   ]
  },
  {
   "cell_type": "markdown",
   "metadata": {},
   "source": [
    "**Your answer:** <double-click here to answer\\>"
   ]
  },
  {
   "cell_type": "markdown",
   "metadata": {
    "deletable": false,
    "editable": false,
    "run_control": {
     "frozen": true
    }
   },
   "source": [
    "# A Warning"
   ]
  },
  {
   "cell_type": "markdown",
   "metadata": {
    "deletable": false,
    "editable": false,
    "run_control": {
     "frozen": true
    }
   },
   "source": [
    "Jupyter is generally not so happy about having the same document opened in multiple tabs. If this is the case, the changes you make in one tab may overwrite the changes you make in another tab, which can be unfortunate. Therefore, make sure you never have more than one tab opened with the same document."
   ]
  },
  {
   "cell_type": "markdown",
   "metadata": {
    "deletable": false,
    "editable": false,
    "run_control": {
     "frozen": true
    }
   },
   "source": [
    "# Finally"
   ]
  },
  {
   "cell_type": "markdown",
   "metadata": {
    "deletable": false,
    "editable": false,
    "run_control": {
     "frozen": true
    }
   },
   "source": [
    "Jupyter has many opportunities, and we will not use all of them in this course. There is nothing that prevents you from finding other jupyter-notebooks online if you want a challenge, our just want to explore the possibilities of jupyter.\n",
    "\n",
    "Det er mange muligheter som ligger inne i jupyter, og vi skal ikke bruke alt i dette kurset. Det er ingenting som hindrer dere fra i å finne andre jupyter-notatbøker på nettet selv hvis dere ønsker mer utfordring eller å utforske hva som er mulig.\n",
    "\n",
    "**Good luck with jupyter!**"
   ]
  },
  {
   "cell_type": "code",
   "execution_count": null,
   "metadata": {},
   "outputs": [],
   "source": []
  }
 ],
 "metadata": {
  "kernelspec": {
   "display_name": "Python 3",
   "language": "python",
   "name": "python3"
  },
  "language_info": {
   "codemirror_mode": {
    "name": "ipython",
    "version": 3
   },
   "file_extension": ".py",
   "mimetype": "text/x-python",
   "name": "python",
   "nbconvert_exporter": "python",
   "pygments_lexer": "ipython3",
   "version": "3.7.1"
  },
  "toc": {
   "base_numbering": 1,
   "nav_menu": {},
   "number_sections": false,
   "sideBar": true,
   "skip_h1_title": false,
   "title_cell": "Table of Contents",
   "title_sidebar": "Contents",
   "toc_cell": false,
   "toc_position": {},
   "toc_section_display": true,
   "toc_window_display": false
  }
 },
 "nbformat": 4,
 "nbformat_minor": 2
}
