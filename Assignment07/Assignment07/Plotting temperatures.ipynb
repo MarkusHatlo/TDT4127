{
 "cells": [
  {
   "cell_type": "markdown",
   "metadata": {
    "deletable": false,
    "editable": false,
    "run_control": {
     "frozen": true
    }
   },
   "source": [
    "[Back to assignment 9](_Oving9.ipynb)\n",
    "# Plotting temperatures\n",
    "\n",
    "**Learning goals:**\n",
    "\n",
    "- Reading from file\n",
    "- Plotting data\n",
    "\n",
    "**Starting Out with Python:**\n",
    "\n",
    "- Ch. 6.1 (p. 260,->): Introduction to File Input and Output\n",
    "- Ch. 6.2: Using Loops to Process Files\n",
    "- Ch. 7.10: Plotting List Data with the matplotlib Package\n",
    "\n",
    "We are going to explore the contents of the file `Trondheim_temperatures_list.txt`. The data contained in this file will be read and then plotted. The text file contains four lines of text (although if you open it, you may see more lines than this due to text breaking in your reading application. The first line contains the 365 dates from 01.01.2017 to 31.12.2017. The second line contains the 365 mean temperatures on these dates as measured at Voll, Trondheim. The third line contains the 365 minimum temperatures on these dates, and the last line the maximum temperatures measured on these dates. All the data was taken from official statistics at http://eklima.met.no."
   ]
  },
  {
   "cell_type": "markdown",
   "metadata": {
    "deletable": false,
    "editable": false,
    "run_control": {
     "frozen": true
    }
   },
   "source": [
    "The three lines containing temperature data consist of floating point numbers separated by a single whitespace."
   ]
  },
  {
   "cell_type": "markdown",
   "metadata": {
    "deletable": false,
    "editable": false,
    "run_control": {
     "frozen": true
    }
   },
   "source": [
    "### a)\n",
    "Open the text file in Python and print the contents to check that the reading works correctly."
   ]
  },
  {
   "cell_type": "markdown",
   "metadata": {
    "deletable": false,
    "editable": false,
    "run_control": {
     "frozen": true
    }
   },
   "source": [
    "### b)\n",
    "\n",
    "Make a function get_list(line) that reads a line of text consisting of whitespace-separated floats and returns a list containing the floats. \n",
    "\n",
    "**Example run**\n",
    "\n",
    "```python\n",
    "line = '9.1 8.3 4.5 9.1 3.3'\n",
    "print(get_list(line))\n",
    "# Outputs [9.1, 8.3, 4.5, 9.1, 3.3]\n",
    "```"
   ]
  },
  {
   "cell_type": "code",
   "execution_count": null,
   "metadata": {},
   "outputs": [],
   "source": []
  },
  {
   "cell_type": "markdown",
   "metadata": {
    "deletable": false,
    "editable": false,
    "heading_collapsed": true,
    "run_control": {
     "frozen": true
    }
   },
   "source": [
    "#### Hint"
   ]
  },
  {
   "cell_type": "markdown",
   "metadata": {
    "deletable": false,
    "editable": false,
    "hidden": true,
    "run_control": {
     "frozen": true
    }
   },
   "source": [
    "The `str.split('char')` function will split a string into a list of strings, removing the char character. For example with `line = \"Hi-my-name-is-Bertha\"`, running `line = line.split('-')` gives `line = ['Hi', 'my', 'name', 'is', 'Bertha']`.\n",
    "\n",
    "After splitting your list, use the `float()` function to convert each number to a float."
   ]
  },
  {
   "cell_type": "markdown",
   "metadata": {
    "deletable": false,
    "editable": false,
    "run_control": {
     "frozen": true
    }
   },
   "source": [
    "### c)\n",
    "Make a function `get_data(file)` that takes as argument a file object (as created by file = open(...)) on the format of the above text file and returns a tuple `(dates, meantemps, mintemps, maxtemps)` consisting of:\n",
    "- `dates`: a list strings with dates extracted from the text\n",
    "- `meantemps`: a list of floats with mean temperatures extracted from the text\n",
    "- `mintemps`: a list floats with of minimum temperatures extracted from the text\n",
    "- `maxtemps`; a list of floats with maximum temperatures extracted from the text.\n",
    "\n",
    "You should use the function `get_list(line)` from b) to extract the temperatures from lines 2-4 in the text file. "
   ]
  },
  {
   "cell_type": "code",
   "execution_count": null,
   "metadata": {},
   "outputs": [],
   "source": []
  },
  {
   "cell_type": "markdown",
   "metadata": {
    "deletable": false,
    "editable": false,
    "heading_collapsed": true,
    "run_control": {
     "frozen": true
    }
   },
   "source": [
    "#### Hint:"
   ]
  },
  {
   "cell_type": "markdown",
   "metadata": {
    "deletable": false,
    "editable": false,
    "hidden": true,
    "run_control": {
     "frozen": true
    }
   },
   "source": [
    "Use `file.readline()` to read line by line from the text file. The first line contains only dates - you can use `str.split(' ')` to get a list containing them."
   ]
  },
  {
   "cell_type": "markdown",
   "metadata": {
    "deletable": false,
    "editable": false,
    "run_control": {
     "frozen": true
    }
   },
   "source": [
    "### d)\n",
    "Make a function plot_data(file) that takes as input a file of the same format as the above text file and plots the data. You will need to use the matplotlib.pyplot library as in exercise set 7. You should use the function from b) to extract the data, and then use the plt.plot(), plt.title(), plt.xlabel() and plt.ylabel() functions to format your figure so that it resembles the below left figure.\n",
    "\n",
    " \n",
    "\n",
    "**Optional**: In addition, you can use `plt.legend(['FirstLabel','SecondLabel','ThirdLabel'])` to produce a legend in the plot that labels the three lines as seen in the below right figure. To produce the monthly labelling along the x axis, you can use the line `plt.xticks(range(15,365,31),months)` with `months = ['Jan','Feb','Mar','Apr','May','Jun','Jul','Aug','Sep','Oct','Nov','Dec']`. This will replace the regular valuation of the x axis such that at the points corresponding to x = 15, 46, 77,... the plot function writes 'Jan', 'Feb', 'Mar',...."
   ]
  },
  {
   "cell_type": "code",
   "execution_count": null,
   "metadata": {},
   "outputs": [],
   "source": []
  },
  {
   "cell_type": "markdown",
   "metadata": {
    "deletable": false,
    "editable": false,
    "run_control": {
     "frozen": true
    }
   },
   "source": [
    "#### Example output (images):"
   ]
  },
  {
   "cell_type": "markdown",
   "metadata": {
    "deletable": false,
    "editable": false,
    "run_control": {
     "frozen": true
    }
   },
   "source": [
    "Running the code \n",
    "```python\n",
    "file = open(\"Trondheim_temperatures_list.txt\",\"r\")\n",
    "plot_data(file)\n",
    "```\n",
    "should produce one of the following plots, depending on whether or not you add the optional part above to your code.\n",
    "(Note that the x-axis in the left plot is wrong, it should be like the right plot)"
   ]
  },
  {
   "cell_type": "markdown",
   "metadata": {
    "deletable": false,
    "editable": false,
    "run_control": {
     "frozen": true
    }
   },
   "source": [
    "Example Output from d) | Output with optional part\n",
    "- | -\n",
    "![img](./../Resources/Images/temperatures_nolegend.png)|![img](./../Resources/Images/temperatures.png)"
   ]
  },
  {
   "cell_type": "code",
   "execution_count": null,
   "metadata": {},
   "outputs": [],
   "source": []
  }
 ],
 "metadata": {
  "kernelspec": {
   "display_name": "Python 3",
   "language": "python",
   "name": "python3"
  },
  "language_info": {
   "codemirror_mode": {
    "name": "ipython",
    "version": 3
   },
   "file_extension": ".py",
   "mimetype": "text/x-python",
   "name": "python",
   "nbconvert_exporter": "python",
   "pygments_lexer": "ipython3",
   "version": "3.7.1"
  }
 },
 "nbformat": 4,
 "nbformat_minor": 2
}
